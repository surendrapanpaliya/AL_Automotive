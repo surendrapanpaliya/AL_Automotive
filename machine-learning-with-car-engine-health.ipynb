{
 "cells": [
  {
   "cell_type": "code",
   "execution_count": 1,
   "id": "dc9b2740",
   "metadata": {
    "_cell_guid": "b1076dfc-b9ad-4769-8c92-a6c4dae69d19",
    "_uuid": "8f2839f25d086af736a60e9eeb907d3b93b6e0e5",
    "execution": {
     "iopub.execute_input": "2024-08-28T17:47:40.674260Z",
     "iopub.status.busy": "2024-08-28T17:47:40.673084Z",
     "iopub.status.idle": "2024-08-28T17:47:43.490086Z",
     "shell.execute_reply": "2024-08-28T17:47:43.488752Z"
    },
    "papermill": {
     "duration": 2.837445,
     "end_time": "2024-08-28T17:47:43.493401",
     "exception": false,
     "start_time": "2024-08-28T17:47:40.655956",
     "status": "completed"
    },
    "tags": []
   },
   "outputs": [],
   "source": [
    "import pandas as pd\n",
    "import numpy as np\n",
    "import matplotlib.pyplot as plt\n",
    "import seaborn as sns\n",
    "import scipy.stats as st\n",
    "\n",
    "import warnings\n",
    "warnings.filterwarnings(\"ignore\", category = UserWarning)"
   ]
  },
  {
   "cell_type": "markdown",
   "id": "48c3d12b",
   "metadata": {
    "papermill": {
     "duration": 0.015909,
     "end_time": "2024-08-28T17:47:43.526348",
     "exception": false,
     "start_time": "2024-08-28T17:47:43.510439",
     "status": "completed"
    },
    "tags": []
   },
   "source": [
    "### Importing Dataset"
   ]
  },
  {
   "cell_type": "code",
   "execution_count": 2,
   "id": "bdc2f165",
   "metadata": {},
   "outputs": [],
   "source": [
    "data_path = \"/Users/surendra/gen-ai-jlr/engine_data.csv\""
   ]
  },
  {
   "cell_type": "code",
   "execution_count": 3,
   "id": "1702798c",
   "metadata": {
    "execution": {
     "iopub.execute_input": "2024-08-28T17:47:43.558623Z",
     "iopub.status.busy": "2024-08-28T17:47:43.558067Z",
     "iopub.status.idle": "2024-08-28T17:47:43.657075Z",
     "shell.execute_reply": "2024-08-28T17:47:43.655767Z"
    },
    "papermill": {
     "duration": 0.117798,
     "end_time": "2024-08-28T17:47:43.659677",
     "exception": false,
     "start_time": "2024-08-28T17:47:43.541879",
     "status": "completed"
    },
    "tags": []
   },
   "outputs": [
    {
     "data": {
      "text/html": [
       "<div>\n",
       "<style scoped>\n",
       "    .dataframe tbody tr th:only-of-type {\n",
       "        vertical-align: middle;\n",
       "    }\n",
       "\n",
       "    .dataframe tbody tr th {\n",
       "        vertical-align: top;\n",
       "    }\n",
       "\n",
       "    .dataframe thead th {\n",
       "        text-align: right;\n",
       "    }\n",
       "</style>\n",
       "<table border=\"1\" class=\"dataframe\">\n",
       "  <thead>\n",
       "    <tr style=\"text-align: right;\">\n",
       "      <th></th>\n",
       "      <th>Engine rpm</th>\n",
       "      <th>Lub oil pressure</th>\n",
       "      <th>Fuel pressure</th>\n",
       "      <th>Coolant pressure</th>\n",
       "      <th>lub oil temp</th>\n",
       "      <th>Coolant temp</th>\n",
       "      <th>Engine Condition</th>\n",
       "    </tr>\n",
       "  </thead>\n",
       "  <tbody>\n",
       "    <tr>\n",
       "      <th>0</th>\n",
       "      <td>700</td>\n",
       "      <td>2.493592</td>\n",
       "      <td>11.790927</td>\n",
       "      <td>3.178981</td>\n",
       "      <td>84.144163</td>\n",
       "      <td>81.632187</td>\n",
       "      <td>1</td>\n",
       "    </tr>\n",
       "    <tr>\n",
       "      <th>1</th>\n",
       "      <td>876</td>\n",
       "      <td>2.941606</td>\n",
       "      <td>16.193866</td>\n",
       "      <td>2.464504</td>\n",
       "      <td>77.640934</td>\n",
       "      <td>82.445724</td>\n",
       "      <td>0</td>\n",
       "    </tr>\n",
       "    <tr>\n",
       "      <th>2</th>\n",
       "      <td>520</td>\n",
       "      <td>2.961746</td>\n",
       "      <td>6.553147</td>\n",
       "      <td>1.064347</td>\n",
       "      <td>77.752266</td>\n",
       "      <td>79.645777</td>\n",
       "      <td>1</td>\n",
       "    </tr>\n",
       "    <tr>\n",
       "      <th>3</th>\n",
       "      <td>473</td>\n",
       "      <td>3.707835</td>\n",
       "      <td>19.510172</td>\n",
       "      <td>3.727455</td>\n",
       "      <td>74.129907</td>\n",
       "      <td>71.774629</td>\n",
       "      <td>1</td>\n",
       "    </tr>\n",
       "    <tr>\n",
       "      <th>4</th>\n",
       "      <td>619</td>\n",
       "      <td>5.672919</td>\n",
       "      <td>15.738871</td>\n",
       "      <td>2.052251</td>\n",
       "      <td>78.396989</td>\n",
       "      <td>87.000225</td>\n",
       "      <td>0</td>\n",
       "    </tr>\n",
       "  </tbody>\n",
       "</table>\n",
       "</div>"
      ],
      "text/plain": [
       "   Engine rpm  Lub oil pressure  Fuel pressure  Coolant pressure  \\\n",
       "0         700          2.493592      11.790927          3.178981   \n",
       "1         876          2.941606      16.193866          2.464504   \n",
       "2         520          2.961746       6.553147          1.064347   \n",
       "3         473          3.707835      19.510172          3.727455   \n",
       "4         619          5.672919      15.738871          2.052251   \n",
       "\n",
       "   lub oil temp  Coolant temp  Engine Condition  \n",
       "0     84.144163     81.632187                 1  \n",
       "1     77.640934     82.445724                 0  \n",
       "2     77.752266     79.645777                 1  \n",
       "3     74.129907     71.774629                 1  \n",
       "4     78.396989     87.000225                 0  "
      ]
     },
     "execution_count": 3,
     "metadata": {},
     "output_type": "execute_result"
    }
   ],
   "source": [
    "df = pd.read_csv(data_path)\n",
    "df.head()"
   ]
  },
  {
   "cell_type": "code",
   "execution_count": 4,
   "id": "dd77bf2c",
   "metadata": {
    "execution": {
     "iopub.execute_input": "2024-08-28T17:47:43.691736Z",
     "iopub.status.busy": "2024-08-28T17:47:43.691309Z",
     "iopub.status.idle": "2024-08-28T17:47:43.739688Z",
     "shell.execute_reply": "2024-08-28T17:47:43.738050Z"
    },
    "papermill": {
     "duration": 0.068427,
     "end_time": "2024-08-28T17:47:43.743139",
     "exception": false,
     "start_time": "2024-08-28T17:47:43.674712",
     "status": "completed"
    },
    "tags": []
   },
   "outputs": [
    {
     "data": {
      "text/html": [
       "<div>\n",
       "<style scoped>\n",
       "    .dataframe tbody tr th:only-of-type {\n",
       "        vertical-align: middle;\n",
       "    }\n",
       "\n",
       "    .dataframe tbody tr th {\n",
       "        vertical-align: top;\n",
       "    }\n",
       "\n",
       "    .dataframe thead th {\n",
       "        text-align: right;\n",
       "    }\n",
       "</style>\n",
       "<table border=\"1\" class=\"dataframe\">\n",
       "  <thead>\n",
       "    <tr style=\"text-align: right;\">\n",
       "      <th></th>\n",
       "      <th>Engine rpm</th>\n",
       "      <th>Lub oil pressure</th>\n",
       "      <th>Fuel pressure</th>\n",
       "      <th>Coolant pressure</th>\n",
       "      <th>lub oil temp</th>\n",
       "      <th>Coolant temp</th>\n",
       "      <th>Engine Condition</th>\n",
       "    </tr>\n",
       "  </thead>\n",
       "  <tbody>\n",
       "    <tr>\n",
       "      <th>count</th>\n",
       "      <td>19535.000</td>\n",
       "      <td>19535.000</td>\n",
       "      <td>19535.000</td>\n",
       "      <td>19535.000</td>\n",
       "      <td>19535.000</td>\n",
       "      <td>19535.000</td>\n",
       "      <td>19535.000</td>\n",
       "    </tr>\n",
       "    <tr>\n",
       "      <th>mean</th>\n",
       "      <td>791.239</td>\n",
       "      <td>3.304</td>\n",
       "      <td>6.656</td>\n",
       "      <td>2.335</td>\n",
       "      <td>77.643</td>\n",
       "      <td>78.427</td>\n",
       "      <td>0.631</td>\n",
       "    </tr>\n",
       "    <tr>\n",
       "      <th>std</th>\n",
       "      <td>267.611</td>\n",
       "      <td>1.022</td>\n",
       "      <td>2.761</td>\n",
       "      <td>1.036</td>\n",
       "      <td>3.111</td>\n",
       "      <td>6.207</td>\n",
       "      <td>0.483</td>\n",
       "    </tr>\n",
       "    <tr>\n",
       "      <th>min</th>\n",
       "      <td>61.000</td>\n",
       "      <td>0.003</td>\n",
       "      <td>0.003</td>\n",
       "      <td>0.002</td>\n",
       "      <td>71.322</td>\n",
       "      <td>61.673</td>\n",
       "      <td>0.000</td>\n",
       "    </tr>\n",
       "    <tr>\n",
       "      <th>25%</th>\n",
       "      <td>593.000</td>\n",
       "      <td>2.519</td>\n",
       "      <td>4.917</td>\n",
       "      <td>1.600</td>\n",
       "      <td>75.726</td>\n",
       "      <td>73.895</td>\n",
       "      <td>0.000</td>\n",
       "    </tr>\n",
       "    <tr>\n",
       "      <th>50%</th>\n",
       "      <td>746.000</td>\n",
       "      <td>3.162</td>\n",
       "      <td>6.202</td>\n",
       "      <td>2.167</td>\n",
       "      <td>76.817</td>\n",
       "      <td>78.347</td>\n",
       "      <td>1.000</td>\n",
       "    </tr>\n",
       "    <tr>\n",
       "      <th>75%</th>\n",
       "      <td>934.000</td>\n",
       "      <td>4.055</td>\n",
       "      <td>7.745</td>\n",
       "      <td>2.849</td>\n",
       "      <td>78.072</td>\n",
       "      <td>82.915</td>\n",
       "      <td>1.000</td>\n",
       "    </tr>\n",
       "    <tr>\n",
       "      <th>max</th>\n",
       "      <td>2239.000</td>\n",
       "      <td>7.266</td>\n",
       "      <td>21.138</td>\n",
       "      <td>7.479</td>\n",
       "      <td>89.581</td>\n",
       "      <td>195.528</td>\n",
       "      <td>1.000</td>\n",
       "    </tr>\n",
       "  </tbody>\n",
       "</table>\n",
       "</div>"
      ],
      "text/plain": [
       "       Engine rpm  Lub oil pressure  Fuel pressure  Coolant pressure  \\\n",
       "count   19535.000         19535.000      19535.000         19535.000   \n",
       "mean      791.239             3.304          6.656             2.335   \n",
       "std       267.611             1.022          2.761             1.036   \n",
       "min        61.000             0.003          0.003             0.002   \n",
       "25%       593.000             2.519          4.917             1.600   \n",
       "50%       746.000             3.162          6.202             2.167   \n",
       "75%       934.000             4.055          7.745             2.849   \n",
       "max      2239.000             7.266         21.138             7.479   \n",
       "\n",
       "       lub oil temp  Coolant temp  Engine Condition  \n",
       "count     19535.000     19535.000         19535.000  \n",
       "mean         77.643        78.427             0.631  \n",
       "std           3.111         6.207             0.483  \n",
       "min          71.322        61.673             0.000  \n",
       "25%          75.726        73.895             0.000  \n",
       "50%          76.817        78.347             1.000  \n",
       "75%          78.072        82.915             1.000  \n",
       "max          89.581       195.528             1.000  "
      ]
     },
     "execution_count": 4,
     "metadata": {},
     "output_type": "execute_result"
    }
   ],
   "source": [
    "df.describe().round(3)"
   ]
  },
  {
   "cell_type": "code",
   "execution_count": 5,
   "id": "94d0aac0",
   "metadata": {
    "execution": {
     "iopub.execute_input": "2024-08-28T17:47:43.777880Z",
     "iopub.status.busy": "2024-08-28T17:47:43.777430Z",
     "iopub.status.idle": "2024-08-28T17:47:43.802402Z",
     "shell.execute_reply": "2024-08-28T17:47:43.801107Z"
    },
    "papermill": {
     "duration": 0.044896,
     "end_time": "2024-08-28T17:47:43.805295",
     "exception": false,
     "start_time": "2024-08-28T17:47:43.760399",
     "status": "completed"
    },
    "tags": []
   },
   "outputs": [
    {
     "name": "stdout",
     "output_type": "stream",
     "text": [
      "<class 'pandas.core.frame.DataFrame'>\n",
      "RangeIndex: 19535 entries, 0 to 19534\n",
      "Data columns (total 7 columns):\n",
      " #   Column            Non-Null Count  Dtype  \n",
      "---  ------            --------------  -----  \n",
      " 0   Engine rpm        19535 non-null  int64  \n",
      " 1   Lub oil pressure  19535 non-null  float64\n",
      " 2   Fuel pressure     19535 non-null  float64\n",
      " 3   Coolant pressure  19535 non-null  float64\n",
      " 4   lub oil temp      19535 non-null  float64\n",
      " 5   Coolant temp      19535 non-null  float64\n",
      " 6   Engine Condition  19535 non-null  int64  \n",
      "dtypes: float64(5), int64(2)\n",
      "memory usage: 1.0 MB\n"
     ]
    }
   ],
   "source": [
    "df.info()"
   ]
  },
  {
   "cell_type": "code",
   "execution_count": 6,
   "id": "d6ba619a",
   "metadata": {
    "execution": {
     "iopub.execute_input": "2024-08-28T17:47:43.838427Z",
     "iopub.status.busy": "2024-08-28T17:47:43.837966Z",
     "iopub.status.idle": "2024-08-28T17:47:43.849676Z",
     "shell.execute_reply": "2024-08-28T17:47:43.848285Z"
    },
    "papermill": {
     "duration": 0.031721,
     "end_time": "2024-08-28T17:47:43.852527",
     "exception": false,
     "start_time": "2024-08-28T17:47:43.820806",
     "status": "completed"
    },
    "tags": []
   },
   "outputs": [
    {
     "data": {
      "text/plain": [
       "Engine Condition\n",
       "1    12317\n",
       "0     7218\n",
       "Name: count, dtype: int64"
      ]
     },
     "execution_count": 6,
     "metadata": {},
     "output_type": "execute_result"
    }
   ],
   "source": [
    "df['Engine Condition'].value_counts()\n",
    "# \"0\" Engine in a normal or healthy condition\n",
    "# \"1\" Engine in a faulty or problematic condition"
   ]
  },
  {
   "cell_type": "markdown",
   "id": "4ac740d9",
   "metadata": {
    "papermill": {
     "duration": 0.015489,
     "end_time": "2024-08-28T17:47:43.884052",
     "exception": false,
     "start_time": "2024-08-28T17:47:43.868563",
     "status": "completed"
    },
    "tags": []
   },
   "source": [
    "## Check for outliers ( Increase the accuracy )"
   ]
  },
  {
   "cell_type": "code",
   "execution_count": 7,
   "id": "693c629e",
   "metadata": {
    "execution": {
     "iopub.execute_input": "2024-08-28T17:47:43.918508Z",
     "iopub.status.busy": "2024-08-28T17:47:43.918034Z",
     "iopub.status.idle": "2024-08-28T17:47:44.482078Z",
     "shell.execute_reply": "2024-08-28T17:47:44.480843Z"
    },
    "papermill": {
     "duration": 0.584933,
     "end_time": "2024-08-28T17:47:44.484911",
     "exception": false,
     "start_time": "2024-08-28T17:47:43.899978",
     "status": "completed"
    },
    "tags": []
   },
   "outputs": [
    {
     "data": {
      "image/png": "[encoded data removed]",
      "text/plain": [
       "<Figure size 1200x800 with 1 Axes>"
      ]
     },
     "metadata": {},
     "output_type": "display_data"
    }
   ],
   "source": [
    "plt.figure(figsize=(12, 8))\n",
    "sns.boxplot(data=df, palette='binary')\n",
    "plt.title(\"Boxplot for Outliers\")\n",
    "plt.show()"
   ]
  },
  {
   "cell_type": "code",
   "execution_count": 8,
   "id": "db96b4a8",
   "metadata": {
    "execution": {
     "iopub.execute_input": "2024-08-28T17:47:44.519770Z",
     "iopub.status.busy": "2024-08-28T17:47:44.519317Z",
     "iopub.status.idle": "2024-08-28T17:47:45.467413Z",
     "shell.execute_reply": "2024-08-28T17:47:45.466065Z"
    },
    "papermill": {
     "duration": 0.969448,
     "end_time": "2024-08-28T17:47:45.470860",
     "exception": false,
     "start_time": "2024-08-28T17:47:44.501412",
     "status": "completed"
    },
    "tags": []
   },
   "outputs": [
    {
     "data": {
      "image/png": "[encoded data removed]",
      "text/plain": [
       "<Figure size 1200x600 with 2 Axes>"
      ]
     },
     "metadata": {},
     "output_type": "display_data"
    }
   ],
   "source": [
    "plt.figure(figsize =(12, 6))\n",
    "scatter = plt.scatter(\n",
    "    df[\"Engine rpm\"],\n",
    "    df[\"Coolant temp\"],\n",
    "    c = df[\"Engine rpm\"],\n",
    "    cmap = 'turbo',\n",
    "    alpha = 0.7\n",
    ")\n",
    "plt.colorbar(scatter, label = 'Engine rpm')\n",
    "plt.title(\"Engine rpm vs Coolant temp\")\n",
    "plt.xlabel(\"Engine rpm\")\n",
    "plt.ylabel(\"Coolant temp\")\n",
    "plt.show()"
   ]
  },
  {
   "cell_type": "markdown",
   "id": "5b06948c",
   "metadata": {
    "papermill": {
     "duration": 0.018184,
     "end_time": "2024-08-28T17:47:45.507936",
     "exception": false,
     "start_time": "2024-08-28T17:47:45.489752",
     "status": "completed"
    },
    "tags": []
   },
   "source": [
    "### Using IQD technique ( Inter Quantile Range )"
   ]
  },
  {
   "cell_type": "code",
   "execution_count": 9,
   "id": "40e84fe0",
   "metadata": {
    "execution": {
     "iopub.execute_input": "2024-08-28T17:47:45.547883Z",
     "iopub.status.busy": "2024-08-28T17:47:45.547429Z",
     "iopub.status.idle": "2024-08-28T17:47:45.567480Z",
     "shell.execute_reply": "2024-08-28T17:47:45.566070Z"
    },
    "papermill": {
     "duration": 0.043834,
     "end_time": "2024-08-28T17:47:45.570359",
     "exception": false,
     "start_time": "2024-08-28T17:47:45.526525",
     "status": "completed"
    },
    "tags": []
   },
   "outputs": [
    {
     "data": {
      "text/html": [
       "<div>\n",
       "<style scoped>\n",
       "    .dataframe tbody tr th:only-of-type {\n",
       "        vertical-align: middle;\n",
       "    }\n",
       "\n",
       "    .dataframe tbody tr th {\n",
       "        vertical-align: top;\n",
       "    }\n",
       "\n",
       "    .dataframe thead th {\n",
       "        text-align: right;\n",
       "    }\n",
       "</style>\n",
       "<table border=\"1\" class=\"dataframe\">\n",
       "  <thead>\n",
       "    <tr style=\"text-align: right;\">\n",
       "      <th></th>\n",
       "      <th>Engine rpm</th>\n",
       "      <th>Lub oil pressure</th>\n",
       "      <th>Fuel pressure</th>\n",
       "      <th>Coolant pressure</th>\n",
       "      <th>lub oil temp</th>\n",
       "      <th>Coolant temp</th>\n",
       "    </tr>\n",
       "  </thead>\n",
       "  <tbody>\n",
       "    <tr>\n",
       "      <th>0</th>\n",
       "      <td>700</td>\n",
       "      <td>2.493592</td>\n",
       "      <td>11.790927</td>\n",
       "      <td>3.178981</td>\n",
       "      <td>84.144163</td>\n",
       "      <td>81.632187</td>\n",
       "    </tr>\n",
       "    <tr>\n",
       "      <th>1</th>\n",
       "      <td>876</td>\n",
       "      <td>2.941606</td>\n",
       "      <td>16.193866</td>\n",
       "      <td>2.464504</td>\n",
       "      <td>77.640934</td>\n",
       "      <td>82.445724</td>\n",
       "    </tr>\n",
       "    <tr>\n",
       "      <th>2</th>\n",
       "      <td>520</td>\n",
       "      <td>2.961746</td>\n",
       "      <td>6.553147</td>\n",
       "      <td>1.064347</td>\n",
       "      <td>77.752266</td>\n",
       "      <td>79.645777</td>\n",
       "    </tr>\n",
       "    <tr>\n",
       "      <th>3</th>\n",
       "      <td>473</td>\n",
       "      <td>3.707835</td>\n",
       "      <td>19.510172</td>\n",
       "      <td>3.727455</td>\n",
       "      <td>74.129907</td>\n",
       "      <td>71.774629</td>\n",
       "    </tr>\n",
       "    <tr>\n",
       "      <th>4</th>\n",
       "      <td>619</td>\n",
       "      <td>5.672919</td>\n",
       "      <td>15.738871</td>\n",
       "      <td>2.052251</td>\n",
       "      <td>78.396989</td>\n",
       "      <td>87.000225</td>\n",
       "    </tr>\n",
       "    <tr>\n",
       "      <th>...</th>\n",
       "      <td>...</td>\n",
       "      <td>...</td>\n",
       "      <td>...</td>\n",
       "      <td>...</td>\n",
       "      <td>...</td>\n",
       "      <td>...</td>\n",
       "    </tr>\n",
       "    <tr>\n",
       "      <th>19530</th>\n",
       "      <td>902</td>\n",
       "      <td>4.117296</td>\n",
       "      <td>4.981360</td>\n",
       "      <td>4.346564</td>\n",
       "      <td>75.951627</td>\n",
       "      <td>87.925087</td>\n",
       "    </tr>\n",
       "    <tr>\n",
       "      <th>19531</th>\n",
       "      <td>694</td>\n",
       "      <td>4.817720</td>\n",
       "      <td>10.866701</td>\n",
       "      <td>6.186689</td>\n",
       "      <td>75.281430</td>\n",
       "      <td>74.928459</td>\n",
       "    </tr>\n",
       "    <tr>\n",
       "      <th>19532</th>\n",
       "      <td>684</td>\n",
       "      <td>2.673344</td>\n",
       "      <td>4.927376</td>\n",
       "      <td>1.903572</td>\n",
       "      <td>76.844940</td>\n",
       "      <td>86.337345</td>\n",
       "    </tr>\n",
       "    <tr>\n",
       "      <th>19533</th>\n",
       "      <td>696</td>\n",
       "      <td>3.094163</td>\n",
       "      <td>8.291816</td>\n",
       "      <td>1.221729</td>\n",
       "      <td>77.179693</td>\n",
       "      <td>73.624396</td>\n",
       "    </tr>\n",
       "    <tr>\n",
       "      <th>19534</th>\n",
       "      <td>504</td>\n",
       "      <td>3.775246</td>\n",
       "      <td>3.962480</td>\n",
       "      <td>2.038647</td>\n",
       "      <td>75.564313</td>\n",
       "      <td>80.421421</td>\n",
       "    </tr>\n",
       "  </tbody>\n",
       "</table>\n",
       "<p>19535 rows × 6 columns</p>\n",
       "</div>"
      ],
      "text/plain": [
       "       Engine rpm  Lub oil pressure  Fuel pressure  Coolant pressure  \\\n",
       "0             700          2.493592      11.790927          3.178981   \n",
       "1             876          2.941606      16.193866          2.464504   \n",
       "2             520          2.961746       6.553147          1.064347   \n",
       "3             473          3.707835      19.510172          3.727455   \n",
       "4             619          5.672919      15.738871          2.052251   \n",
       "...           ...               ...            ...               ...   \n",
       "19530         902          4.117296       4.981360          4.346564   \n",
       "19531         694          4.817720      10.866701          6.186689   \n",
       "19532         684          2.673344       4.927376          1.903572   \n",
       "19533         696          3.094163       8.291816          1.221729   \n",
       "19534         504          3.775246       3.962480          2.038647   \n",
       "\n",
       "       lub oil temp  Coolant temp  \n",
       "0         84.144163     81.632187  \n",
       "1         77.640934     82.445724  \n",
       "2         77.752266     79.645777  \n",
       "3         74.129907     71.774629  \n",
       "4         78.396989     87.000225  \n",
       "...             ...           ...  \n",
       "19530     75.951627     87.925087  \n",
       "19531     75.281430     74.928459  \n",
       "19532     76.844940     86.337345  \n",
       "19533     77.179693     73.624396  \n",
       "19534     75.564313     80.421421  \n",
       "\n",
       "[19535 rows x 6 columns]"
      ]
     },
     "execution_count": 9,
     "metadata": {},
     "output_type": "execute_result"
    }
   ],
   "source": [
    "df_temp = df.drop(columns=[\"Engine Condition\"])\n",
    "df_temp"
   ]
  },
  {
   "cell_type": "code",
   "execution_count": 10,
   "id": "34cabbf4",
   "metadata": {
    "execution": {
     "iopub.execute_input": "2024-08-28T17:47:45.610390Z",
     "iopub.status.busy": "2024-08-28T17:47:45.609968Z",
     "iopub.status.idle": "2024-08-28T17:47:45.625807Z",
     "shell.execute_reply": "2024-08-28T17:47:45.624364Z"
    },
    "papermill": {
     "duration": 0.039995,
     "end_time": "2024-08-28T17:47:45.629357",
     "exception": false,
     "start_time": "2024-08-28T17:47:45.589362",
     "status": "completed"
    },
    "tags": []
   },
   "outputs": [
    {
     "name": "stdout",
     "output_type": "stream",
     "text": [
      "Engine rpm      593.000000\n",
      "Coolant temp     73.895421\n",
      "Name: 0.25, dtype: float64\n",
      "-------------------------------\n",
      "Engine rpm      934.000000\n",
      "Coolant temp     82.915411\n",
      "Name: 0.75, dtype: float64\n"
     ]
    }
   ],
   "source": [
    "Q1 = df_temp[['Engine rpm', 'Coolant temp']].quantile(0.25)\n",
    "print(Q1)\n",
    "print(\"-------------------------------\")\n",
    "Q3 = df_temp[['Engine rpm', 'Coolant temp']].quantile(0.75)\n",
    "print(Q3)"
   ]
  },
  {
   "cell_type": "code",
   "execution_count": 11,
   "id": "ea054e8f",
   "metadata": {
    "execution": {
     "iopub.execute_input": "2024-08-28T17:47:45.670911Z",
     "iopub.status.busy": "2024-08-28T17:47:45.670510Z",
     "iopub.status.idle": "2024-08-28T17:47:45.677756Z",
     "shell.execute_reply": "2024-08-28T17:47:45.676331Z"
    },
    "papermill": {
     "duration": 0.031728,
     "end_time": "2024-08-28T17:47:45.681032",
     "exception": false,
     "start_time": "2024-08-28T17:47:45.649304",
     "status": "completed"
    },
    "tags": []
   },
   "outputs": [
    {
     "name": "stdout",
     "output_type": "stream",
     "text": [
      "Engine rpm      341.00000\n",
      "Coolant temp      9.01999\n",
      "dtype: float64\n"
     ]
    }
   ],
   "source": [
    "IQR = Q3 - Q1\n",
    "print(IQR)"
   ]
  },
  {
   "cell_type": "code",
   "execution_count": 13,
   "id": "1f8d26ec",
   "metadata": {
    "execution": {
     "iopub.execute_input": "2024-08-28T17:47:45.721178Z",
     "iopub.status.busy": "2024-08-28T17:47:45.720747Z",
     "iopub.status.idle": "2024-08-28T17:47:45.730655Z",
     "shell.execute_reply": "2024-08-28T17:47:45.729229Z"
    },
    "papermill": {
     "duration": 0.033227,
     "end_time": "2024-08-28T17:47:45.733611",
     "exception": false,
     "start_time": "2024-08-28T17:47:45.700384",
     "status": "completed"
    },
    "tags": []
   },
   "outputs": [
    {
     "name": "stdout",
     "output_type": "stream",
     "text": [
      "Engine rpm      81.500000\n",
      "Coolant temp    60.365435\n",
      "dtype: float64\n",
      "-------------------------------\n",
      "Engine rpm      1445.500000\n",
      "Coolant temp      96.445397\n",
      "dtype: float64\n"
     ]
    }
   ],
   "source": [
    "lower_limit = Q1 - 1.5*IQR\n",
    "print(lower_limit)\n",
    "print(\"-------------------------------\")\n",
    "upper_limit = Q3 + 1.5*IQR\n",
    "print(upper_limit)"
   ]
  },
  {
   "cell_type": "code",
   "execution_count": 14,
   "id": "7ba0b02c",
   "metadata": {
    "execution": {
     "iopub.execute_input": "2024-08-28T17:47:45.776078Z",
     "iopub.status.busy": "2024-08-28T17:47:45.774610Z",
     "iopub.status.idle": "2024-08-28T17:47:45.800073Z",
     "shell.execute_reply": "2024-08-28T17:47:45.798736Z"
    },
    "papermill": {
     "duration": 0.049714,
     "end_time": "2024-08-28T17:47:45.803176",
     "exception": false,
     "start_time": "2024-08-28T17:47:45.753462",
     "status": "completed"
    },
    "tags": []
   },
   "outputs": [
    {
     "data": {
      "text/html": [
       "<div>\n",
       "<style scoped>\n",
       "    .dataframe tbody tr th:only-of-type {\n",
       "        vertical-align: middle;\n",
       "    }\n",
       "\n",
       "    .dataframe tbody tr th {\n",
       "        vertical-align: top;\n",
       "    }\n",
       "\n",
       "    .dataframe thead th {\n",
       "        text-align: right;\n",
       "    }\n",
       "</style>\n",
       "<table border=\"1\" class=\"dataframe\">\n",
       "  <thead>\n",
       "    <tr style=\"text-align: right;\">\n",
       "      <th></th>\n",
       "      <th>Engine rpm</th>\n",
       "      <th>Lub oil pressure</th>\n",
       "      <th>Fuel pressure</th>\n",
       "      <th>Coolant pressure</th>\n",
       "      <th>lub oil temp</th>\n",
       "      <th>Coolant temp</th>\n",
       "      <th>Engine Condition</th>\n",
       "    </tr>\n",
       "  </thead>\n",
       "  <tbody>\n",
       "    <tr>\n",
       "      <th>55</th>\n",
       "      <td>1674</td>\n",
       "      <td>2.501620</td>\n",
       "      <td>3.624157</td>\n",
       "      <td>2.043075</td>\n",
       "      <td>76.772327</td>\n",
       "      <td>74.641940</td>\n",
       "      <td>0</td>\n",
       "    </tr>\n",
       "    <tr>\n",
       "      <th>88</th>\n",
       "      <td>1776</td>\n",
       "      <td>3.648060</td>\n",
       "      <td>5.873874</td>\n",
       "      <td>1.318790</td>\n",
       "      <td>76.481421</td>\n",
       "      <td>71.233786</td>\n",
       "      <td>0</td>\n",
       "    </tr>\n",
       "    <tr>\n",
       "      <th>102</th>\n",
       "      <td>1481</td>\n",
       "      <td>3.972600</td>\n",
       "      <td>5.701680</td>\n",
       "      <td>1.556111</td>\n",
       "      <td>75.997690</td>\n",
       "      <td>93.791609</td>\n",
       "      <td>0</td>\n",
       "    </tr>\n",
       "    <tr>\n",
       "      <th>108</th>\n",
       "      <td>1661</td>\n",
       "      <td>3.518121</td>\n",
       "      <td>11.802902</td>\n",
       "      <td>2.951991</td>\n",
       "      <td>76.725921</td>\n",
       "      <td>72.872725</td>\n",
       "      <td>0</td>\n",
       "    </tr>\n",
       "    <tr>\n",
       "      <th>143</th>\n",
       "      <td>1620</td>\n",
       "      <td>1.536989</td>\n",
       "      <td>6.398304</td>\n",
       "      <td>2.423895</td>\n",
       "      <td>75.163334</td>\n",
       "      <td>77.340058</td>\n",
       "      <td>0</td>\n",
       "    </tr>\n",
       "    <tr>\n",
       "      <th>...</th>\n",
       "      <td>...</td>\n",
       "      <td>...</td>\n",
       "      <td>...</td>\n",
       "      <td>...</td>\n",
       "      <td>...</td>\n",
       "      <td>...</td>\n",
       "      <td>...</td>\n",
       "    </tr>\n",
       "    <tr>\n",
       "      <th>19241</th>\n",
       "      <td>2136</td>\n",
       "      <td>3.311171</td>\n",
       "      <td>7.282090</td>\n",
       "      <td>1.678657</td>\n",
       "      <td>75.783308</td>\n",
       "      <td>83.707670</td>\n",
       "      <td>1</td>\n",
       "    </tr>\n",
       "    <tr>\n",
       "      <th>19357</th>\n",
       "      <td>1556</td>\n",
       "      <td>4.786442</td>\n",
       "      <td>7.678463</td>\n",
       "      <td>4.029723</td>\n",
       "      <td>78.774495</td>\n",
       "      <td>71.273450</td>\n",
       "      <td>0</td>\n",
       "    </tr>\n",
       "    <tr>\n",
       "      <th>19409</th>\n",
       "      <td>1586</td>\n",
       "      <td>5.044422</td>\n",
       "      <td>8.794704</td>\n",
       "      <td>2.523254</td>\n",
       "      <td>77.276628</td>\n",
       "      <td>70.349750</td>\n",
       "      <td>1</td>\n",
       "    </tr>\n",
       "    <tr>\n",
       "      <th>19447</th>\n",
       "      <td>1807</td>\n",
       "      <td>3.727537</td>\n",
       "      <td>14.140429</td>\n",
       "      <td>4.446769</td>\n",
       "      <td>77.008190</td>\n",
       "      <td>90.369222</td>\n",
       "      <td>1</td>\n",
       "    </tr>\n",
       "    <tr>\n",
       "      <th>19466</th>\n",
       "      <td>1579</td>\n",
       "      <td>2.745121</td>\n",
       "      <td>4.776110</td>\n",
       "      <td>1.730032</td>\n",
       "      <td>75.771064</td>\n",
       "      <td>89.964517</td>\n",
       "      <td>0</td>\n",
       "    </tr>\n",
       "  </tbody>\n",
       "</table>\n",
       "<p>466 rows × 7 columns</p>\n",
       "</div>"
      ],
      "text/plain": [
       "       Engine rpm  Lub oil pressure  Fuel pressure  Coolant pressure  \\\n",
       "55           1674          2.501620       3.624157          2.043075   \n",
       "88           1776          3.648060       5.873874          1.318790   \n",
       "102          1481          3.972600       5.701680          1.556111   \n",
       "108          1661          3.518121      11.802902          2.951991   \n",
       "143          1620          1.536989       6.398304          2.423895   \n",
       "...           ...               ...            ...               ...   \n",
       "19241        2136          3.311171       7.282090          1.678657   \n",
       "19357        1556          4.786442       7.678463          4.029723   \n",
       "19409        1586          5.044422       8.794704          2.523254   \n",
       "19447        1807          3.727537      14.140429          4.446769   \n",
       "19466        1579          2.745121       4.776110          1.730032   \n",
       "\n",
       "       lub oil temp  Coolant temp  Engine Condition  \n",
       "55        76.772327     74.641940                 0  \n",
       "88        76.481421     71.233786                 0  \n",
       "102       75.997690     93.791609                 0  \n",
       "108       76.725921     72.872725                 0  \n",
       "143       75.163334     77.340058                 0  \n",
       "...             ...           ...               ...  \n",
       "19241     75.783308     83.707670                 1  \n",
       "19357     78.774495     71.273450                 0  \n",
       "19409     77.276628     70.349750                 1  \n",
       "19447     77.008190     90.369222                 1  \n",
       "19466     75.771064     89.964517                 0  \n",
       "\n",
       "[466 rows x 7 columns]"
      ]
     },
     "execution_count": 14,
     "metadata": {},
     "output_type": "execute_result"
    }
   ],
   "source": [
    "outlier_mask = (df[['Engine rpm', 'Coolant temp']] < lower_limit) | (df[['Engine rpm', 'Coolant temp']] > upper_limit)\n",
    "outliers = df[outlier_mask.any(axis=1)]\n",
    "outliers"
   ]
  },
  {
   "cell_type": "code",
   "execution_count": 15,
   "id": "f45089f3",
   "metadata": {
    "execution": {
     "iopub.execute_input": "2024-08-28T17:47:45.845160Z",
     "iopub.status.busy": "2024-08-28T17:47:45.844759Z",
     "iopub.status.idle": "2024-08-28T17:47:45.850857Z",
     "shell.execute_reply": "2024-08-28T17:47:45.849607Z"
    },
    "papermill": {
     "duration": 0.03097,
     "end_time": "2024-08-28T17:47:45.854185",
     "exception": false,
     "start_time": "2024-08-28T17:47:45.823215",
     "status": "completed"
    },
    "tags": []
   },
   "outputs": [
    {
     "name": "stdout",
     "output_type": "stream",
     "text": [
      "Data loss due to outlier : 2.385461991297671\n"
     ]
    }
   ],
   "source": [
    "percentage = (466/19535)*100\n",
    "print(\"Data loss due to outlier :\", percentage)  # That's Okay"
   ]
  },
  {
   "cell_type": "markdown",
   "id": "bbe00dec",
   "metadata": {
    "papermill": {
     "duration": 0.01964,
     "end_time": "2024-08-28T17:47:45.894674",
     "exception": false,
     "start_time": "2024-08-28T17:47:45.875034",
     "status": "completed"
    },
    "tags": []
   },
   "source": [
    "### Removing Outliers"
   ]
  },
  {
   "cell_type": "code",
   "execution_count": 16,
   "id": "cd182783",
   "metadata": {
    "execution": {
     "iopub.execute_input": "2024-08-28T17:47:45.936156Z",
     "iopub.status.busy": "2024-08-28T17:47:45.935759Z",
     "iopub.status.idle": "2024-08-28T17:47:45.955977Z",
     "shell.execute_reply": "2024-08-28T17:47:45.954636Z"
    },
    "papermill": {
     "duration": 0.044365,
     "end_time": "2024-08-28T17:47:45.958968",
     "exception": false,
     "start_time": "2024-08-28T17:47:45.914603",
     "status": "completed"
    },
    "tags": []
   },
   "outputs": [
    {
     "data": {
      "text/html": [
       "<div>\n",
       "<style scoped>\n",
       "    .dataframe tbody tr th:only-of-type {\n",
       "        vertical-align: middle;\n",
       "    }\n",
       "\n",
       "    .dataframe tbody tr th {\n",
       "        vertical-align: top;\n",
       "    }\n",
       "\n",
       "    .dataframe thead th {\n",
       "        text-align: right;\n",
       "    }\n",
       "</style>\n",
       "<table border=\"1\" class=\"dataframe\">\n",
       "  <thead>\n",
       "    <tr style=\"text-align: right;\">\n",
       "      <th></th>\n",
       "      <th>Engine rpm</th>\n",
       "      <th>Lub oil pressure</th>\n",
       "      <th>Fuel pressure</th>\n",
       "      <th>Coolant pressure</th>\n",
       "      <th>lub oil temp</th>\n",
       "      <th>Coolant temp</th>\n",
       "      <th>Engine Condition</th>\n",
       "    </tr>\n",
       "  </thead>\n",
       "  <tbody>\n",
       "    <tr>\n",
       "      <th>0</th>\n",
       "      <td>700</td>\n",
       "      <td>2.493592</td>\n",
       "      <td>11.790927</td>\n",
       "      <td>3.178981</td>\n",
       "      <td>84.144163</td>\n",
       "      <td>81.632187</td>\n",
       "      <td>1</td>\n",
       "    </tr>\n",
       "    <tr>\n",
       "      <th>1</th>\n",
       "      <td>876</td>\n",
       "      <td>2.941606</td>\n",
       "      <td>16.193866</td>\n",
       "      <td>2.464504</td>\n",
       "      <td>77.640934</td>\n",
       "      <td>82.445724</td>\n",
       "      <td>0</td>\n",
       "    </tr>\n",
       "    <tr>\n",
       "      <th>2</th>\n",
       "      <td>520</td>\n",
       "      <td>2.961746</td>\n",
       "      <td>6.553147</td>\n",
       "      <td>1.064347</td>\n",
       "      <td>77.752266</td>\n",
       "      <td>79.645777</td>\n",
       "      <td>1</td>\n",
       "    </tr>\n",
       "    <tr>\n",
       "      <th>3</th>\n",
       "      <td>473</td>\n",
       "      <td>3.707835</td>\n",
       "      <td>19.510172</td>\n",
       "      <td>3.727455</td>\n",
       "      <td>74.129907</td>\n",
       "      <td>71.774629</td>\n",
       "      <td>1</td>\n",
       "    </tr>\n",
       "    <tr>\n",
       "      <th>4</th>\n",
       "      <td>619</td>\n",
       "      <td>5.672919</td>\n",
       "      <td>15.738871</td>\n",
       "      <td>2.052251</td>\n",
       "      <td>78.396989</td>\n",
       "      <td>87.000225</td>\n",
       "      <td>0</td>\n",
       "    </tr>\n",
       "    <tr>\n",
       "      <th>...</th>\n",
       "      <td>...</td>\n",
       "      <td>...</td>\n",
       "      <td>...</td>\n",
       "      <td>...</td>\n",
       "      <td>...</td>\n",
       "      <td>...</td>\n",
       "      <td>...</td>\n",
       "    </tr>\n",
       "    <tr>\n",
       "      <th>19530</th>\n",
       "      <td>902</td>\n",
       "      <td>4.117296</td>\n",
       "      <td>4.981360</td>\n",
       "      <td>4.346564</td>\n",
       "      <td>75.951627</td>\n",
       "      <td>87.925087</td>\n",
       "      <td>1</td>\n",
       "    </tr>\n",
       "    <tr>\n",
       "      <th>19531</th>\n",
       "      <td>694</td>\n",
       "      <td>4.817720</td>\n",
       "      <td>10.866701</td>\n",
       "      <td>6.186689</td>\n",
       "      <td>75.281430</td>\n",
       "      <td>74.928459</td>\n",
       "      <td>1</td>\n",
       "    </tr>\n",
       "    <tr>\n",
       "      <th>19532</th>\n",
       "      <td>684</td>\n",
       "      <td>2.673344</td>\n",
       "      <td>4.927376</td>\n",
       "      <td>1.903572</td>\n",
       "      <td>76.844940</td>\n",
       "      <td>86.337345</td>\n",
       "      <td>1</td>\n",
       "    </tr>\n",
       "    <tr>\n",
       "      <th>19533</th>\n",
       "      <td>696</td>\n",
       "      <td>3.094163</td>\n",
       "      <td>8.291816</td>\n",
       "      <td>1.221729</td>\n",
       "      <td>77.179693</td>\n",
       "      <td>73.624396</td>\n",
       "      <td>1</td>\n",
       "    </tr>\n",
       "    <tr>\n",
       "      <th>19534</th>\n",
       "      <td>504</td>\n",
       "      <td>3.775246</td>\n",
       "      <td>3.962480</td>\n",
       "      <td>2.038647</td>\n",
       "      <td>75.564313</td>\n",
       "      <td>80.421421</td>\n",
       "      <td>1</td>\n",
       "    </tr>\n",
       "  </tbody>\n",
       "</table>\n",
       "<p>19069 rows × 7 columns</p>\n",
       "</div>"
      ],
      "text/plain": [
       "       Engine rpm  Lub oil pressure  Fuel pressure  Coolant pressure  \\\n",
       "0             700          2.493592      11.790927          3.178981   \n",
       "1             876          2.941606      16.193866          2.464504   \n",
       "2             520          2.961746       6.553147          1.064347   \n",
       "3             473          3.707835      19.510172          3.727455   \n",
       "4             619          5.672919      15.738871          2.052251   \n",
       "...           ...               ...            ...               ...   \n",
       "19530         902          4.117296       4.981360          4.346564   \n",
       "19531         694          4.817720      10.866701          6.186689   \n",
       "19532         684          2.673344       4.927376          1.903572   \n",
       "19533         696          3.094163       8.291816          1.221729   \n",
       "19534         504          3.775246       3.962480          2.038647   \n",
       "\n",
       "       lub oil temp  Coolant temp  Engine Condition  \n",
       "0         84.144163     81.632187                 1  \n",
       "1         77.640934     82.445724                 0  \n",
       "2         77.752266     79.645777                 1  \n",
       "3         74.129907     71.774629                 1  \n",
       "4         78.396989     87.000225                 0  \n",
       "...             ...           ...               ...  \n",
       "19530     75.951627     87.925087                 1  \n",
       "19531     75.281430     74.928459                 1  \n",
       "19532     76.844940     86.337345                 1  \n",
       "19533     77.179693     73.624396                 1  \n",
       "19534     75.564313     80.421421                 1  \n",
       "\n",
       "[19069 rows x 7 columns]"
      ]
     },
     "execution_count": 16,
     "metadata": {},
     "output_type": "execute_result"
    }
   ],
   "source": [
    "df_cleaned = df[~outlier_mask.any(axis=1)]\n",
    "df_cleaned"
   ]
  },
  {
   "cell_type": "code",
   "execution_count": 17,
   "id": "bb16f983",
   "metadata": {
    "execution": {
     "iopub.execute_input": "2024-08-28T17:47:46.002499Z",
     "iopub.status.busy": "2024-08-28T17:47:46.002047Z",
     "iopub.status.idle": "2024-08-28T17:47:46.587001Z",
     "shell.execute_reply": "2024-08-28T17:47:46.585724Z"
    },
    "papermill": {
     "duration": 0.610066,
     "end_time": "2024-08-28T17:47:46.589638",
     "exception": false,
     "start_time": "2024-08-28T17:47:45.979572",
     "status": "completed"
    },
    "tags": []
   },
   "outputs": [
    {
     "data": {
      "image/png": "[encoded data removed]",
      "text/plain": [
       "<Figure size 1200x800 with 2 Axes>"
      ]
     },
     "metadata": {},
     "output_type": "display_data"
    }
   ],
   "source": [
    "correlation = df_cleaned.corr()\n",
    "\n",
    "plt.figure(figsize =(12, 8))\n",
    "sns.heatmap(correlation, annot = True, cmap = 'coolwarm', fmt = '.2f', linewidths = 0.5)\n",
    "plt.title(\"Correlation Heatmap for engine health\")\n",
    "plt.show()\n",
    "# All the features have weak correlations with the target variable Engine Condition.\n",
    "#This suggests that none of these features alone strongly predict the engine condition"
   ]
  },
  {
   "cell_type": "code",
   "execution_count": 18,
   "id": "caf6b28b",
   "metadata": {
    "execution": {
     "iopub.execute_input": "2024-08-28T17:47:46.636158Z",
     "iopub.status.busy": "2024-08-28T17:47:46.635091Z",
     "iopub.status.idle": "2024-08-28T17:47:46.656639Z",
     "shell.execute_reply": "2024-08-28T17:47:46.655447Z"
    },
    "papermill": {
     "duration": 0.04769,
     "end_time": "2024-08-28T17:47:46.659380",
     "exception": false,
     "start_time": "2024-08-28T17:47:46.611690",
     "status": "completed"
    },
    "tags": []
   },
   "outputs": [
    {
     "data": {
      "text/html": [
       "<div>\n",
       "<style scoped>\n",
       "    .dataframe tbody tr th:only-of-type {\n",
       "        vertical-align: middle;\n",
       "    }\n",
       "\n",
       "    .dataframe tbody tr th {\n",
       "        vertical-align: top;\n",
       "    }\n",
       "\n",
       "    .dataframe thead th {\n",
       "        text-align: right;\n",
       "    }\n",
       "</style>\n",
       "<table border=\"1\" class=\"dataframe\">\n",
       "  <thead>\n",
       "    <tr style=\"text-align: right;\">\n",
       "      <th></th>\n",
       "      <th>Engine rpm</th>\n",
       "      <th>Lub oil pressure</th>\n",
       "      <th>Fuel pressure</th>\n",
       "      <th>Coolant pressure</th>\n",
       "      <th>lub oil temp</th>\n",
       "      <th>Coolant temp</th>\n",
       "      <th>Engine Condition</th>\n",
       "    </tr>\n",
       "  </thead>\n",
       "  <tbody>\n",
       "    <tr>\n",
       "      <th>0</th>\n",
       "      <td>700</td>\n",
       "      <td>2.494</td>\n",
       "      <td>11.791</td>\n",
       "      <td>3.179</td>\n",
       "      <td>84.144</td>\n",
       "      <td>81.632</td>\n",
       "      <td>1</td>\n",
       "    </tr>\n",
       "    <tr>\n",
       "      <th>1</th>\n",
       "      <td>876</td>\n",
       "      <td>2.942</td>\n",
       "      <td>16.194</td>\n",
       "      <td>2.465</td>\n",
       "      <td>77.641</td>\n",
       "      <td>82.446</td>\n",
       "      <td>0</td>\n",
       "    </tr>\n",
       "    <tr>\n",
       "      <th>2</th>\n",
       "      <td>520</td>\n",
       "      <td>2.962</td>\n",
       "      <td>6.553</td>\n",
       "      <td>1.064</td>\n",
       "      <td>77.752</td>\n",
       "      <td>79.646</td>\n",
       "      <td>1</td>\n",
       "    </tr>\n",
       "    <tr>\n",
       "      <th>3</th>\n",
       "      <td>473</td>\n",
       "      <td>3.708</td>\n",
       "      <td>19.510</td>\n",
       "      <td>3.727</td>\n",
       "      <td>74.130</td>\n",
       "      <td>71.775</td>\n",
       "      <td>1</td>\n",
       "    </tr>\n",
       "    <tr>\n",
       "      <th>4</th>\n",
       "      <td>619</td>\n",
       "      <td>5.673</td>\n",
       "      <td>15.739</td>\n",
       "      <td>2.052</td>\n",
       "      <td>78.397</td>\n",
       "      <td>87.000</td>\n",
       "      <td>0</td>\n",
       "    </tr>\n",
       "    <tr>\n",
       "      <th>...</th>\n",
       "      <td>...</td>\n",
       "      <td>...</td>\n",
       "      <td>...</td>\n",
       "      <td>...</td>\n",
       "      <td>...</td>\n",
       "      <td>...</td>\n",
       "      <td>...</td>\n",
       "    </tr>\n",
       "    <tr>\n",
       "      <th>19530</th>\n",
       "      <td>902</td>\n",
       "      <td>4.117</td>\n",
       "      <td>4.981</td>\n",
       "      <td>4.347</td>\n",
       "      <td>75.952</td>\n",
       "      <td>87.925</td>\n",
       "      <td>1</td>\n",
       "    </tr>\n",
       "    <tr>\n",
       "      <th>19531</th>\n",
       "      <td>694</td>\n",
       "      <td>4.818</td>\n",
       "      <td>10.867</td>\n",
       "      <td>6.187</td>\n",
       "      <td>75.281</td>\n",
       "      <td>74.928</td>\n",
       "      <td>1</td>\n",
       "    </tr>\n",
       "    <tr>\n",
       "      <th>19532</th>\n",
       "      <td>684</td>\n",
       "      <td>2.673</td>\n",
       "      <td>4.927</td>\n",
       "      <td>1.904</td>\n",
       "      <td>76.845</td>\n",
       "      <td>86.337</td>\n",
       "      <td>1</td>\n",
       "    </tr>\n",
       "    <tr>\n",
       "      <th>19533</th>\n",
       "      <td>696</td>\n",
       "      <td>3.094</td>\n",
       "      <td>8.292</td>\n",
       "      <td>1.222</td>\n",
       "      <td>77.180</td>\n",
       "      <td>73.624</td>\n",
       "      <td>1</td>\n",
       "    </tr>\n",
       "    <tr>\n",
       "      <th>19534</th>\n",
       "      <td>504</td>\n",
       "      <td>3.775</td>\n",
       "      <td>3.962</td>\n",
       "      <td>2.039</td>\n",
       "      <td>75.564</td>\n",
       "      <td>80.421</td>\n",
       "      <td>1</td>\n",
       "    </tr>\n",
       "  </tbody>\n",
       "</table>\n",
       "<p>19069 rows × 7 columns</p>\n",
       "</div>"
      ],
      "text/plain": [
       "       Engine rpm  Lub oil pressure  Fuel pressure  Coolant pressure  \\\n",
       "0             700             2.494         11.791             3.179   \n",
       "1             876             2.942         16.194             2.465   \n",
       "2             520             2.962          6.553             1.064   \n",
       "3             473             3.708         19.510             3.727   \n",
       "4             619             5.673         15.739             2.052   \n",
       "...           ...               ...            ...               ...   \n",
       "19530         902             4.117          4.981             4.347   \n",
       "19531         694             4.818         10.867             6.187   \n",
       "19532         684             2.673          4.927             1.904   \n",
       "19533         696             3.094          8.292             1.222   \n",
       "19534         504             3.775          3.962             2.039   \n",
       "\n",
       "       lub oil temp  Coolant temp  Engine Condition  \n",
       "0            84.144        81.632                 1  \n",
       "1            77.641        82.446                 0  \n",
       "2            77.752        79.646                 1  \n",
       "3            74.130        71.775                 1  \n",
       "4            78.397        87.000                 0  \n",
       "...             ...           ...               ...  \n",
       "19530        75.952        87.925                 1  \n",
       "19531        75.281        74.928                 1  \n",
       "19532        76.845        86.337                 1  \n",
       "19533        77.180        73.624                 1  \n",
       "19534        75.564        80.421                 1  \n",
       "\n",
       "[19069 rows x 7 columns]"
      ]
     },
     "execution_count": 18,
     "metadata": {},
     "output_type": "execute_result"
    }
   ],
   "source": [
    "df_cleaned.round(3)"
   ]
  },
  {
   "cell_type": "markdown",
   "id": "db78f796",
   "metadata": {
    "papermill": {
     "duration": 0.021452,
     "end_time": "2024-08-28T17:47:46.702581",
     "exception": false,
     "start_time": "2024-08-28T17:47:46.681129",
     "status": "completed"
    },
    "tags": []
   },
   "source": [
    "## KNN Algorithm"
   ]
  },
  {
   "cell_type": "code",
   "execution_count": 19,
   "id": "9457fda2",
   "metadata": {
    "execution": {
     "iopub.execute_input": "2024-08-28T17:47:46.749740Z",
     "iopub.status.busy": "2024-08-28T17:47:46.748589Z",
     "iopub.status.idle": "2024-08-28T17:47:46.756102Z",
     "shell.execute_reply": "2024-08-28T17:47:46.754635Z"
    },
    "papermill": {
     "duration": 0.034045,
     "end_time": "2024-08-28T17:47:46.758986",
     "exception": false,
     "start_time": "2024-08-28T17:47:46.724941",
     "status": "completed"
    },
    "tags": []
   },
   "outputs": [],
   "source": [
    "X = df_cleaned.drop(columns=[\"Engine Condition\"])\n",
    "Y = df_cleaned['Engine Condition']"
   ]
  },
  {
   "cell_type": "code",
   "execution_count": 20,
   "id": "6f747bf8",
   "metadata": {
    "execution": {
     "iopub.execute_input": "2024-08-28T17:47:46.869991Z",
     "iopub.status.busy": "2024-08-28T17:47:46.869511Z",
     "iopub.status.idle": "2024-08-28T17:47:47.490928Z",
     "shell.execute_reply": "2024-08-28T17:47:47.489698Z"
    },
    "papermill": {
     "duration": 0.713152,
     "end_time": "2024-08-28T17:47:47.493910",
     "exception": false,
     "start_time": "2024-08-28T17:47:46.780758",
     "status": "completed"
    },
    "tags": []
   },
   "outputs": [
    {
     "data": {
      "text/html": [
       "<style>#sk-container-id-1 {\n",
       "  /* Definition of color scheme common for light and dark mode */\n",
       "  --sklearn-color-text: black;\n",
       "  --sklearn-color-line: gray;\n",
       "  /* Definition of color scheme for unfitted estimators */\n",
       "  --sklearn-color-unfitted-level-0: #fff5e6;\n",
       "  --sklearn-color-unfitted-level-1: #f6e4d2;\n",
       "  --sklearn-color-unfitted-level-2: #ffe0b3;\n",
       "  --sklearn-color-unfitted-level-3: chocolate;\n",
       "  /* Definition of color scheme for fitted estimators */\n",
       "  --sklearn-color-fitted-level-0: #f0f8ff;\n",
       "  --sklearn-color-fitted-level-1: #d4ebff;\n",
       "  --sklearn-color-fitted-level-2: #b3dbfd;\n",
       "  --sklearn-color-fitted-level-3: cornflowerblue;\n",
       "\n",
       "  /* Specific color for light theme */\n",
       "  --sklearn-color-text-on-default-background: var(--sg-text-color, var(--theme-code-foreground, var(--jp-content-font-color1, black)));\n",
       "  --sklearn-color-background: var(--sg-background-color, var(--theme-background, var(--jp-layout-color0, white)));\n",
       "  --sklearn-color-border-box: var(--sg-text-color, var(--theme-code-foreground, var(--jp-content-font-color1, black)));\n",
       "  --sklearn-color-icon: #696969;\n",
       "\n",
       "  @media (prefers-color-scheme: dark) {\n",
       "    /* Redefinition of color scheme for dark theme */\n",
       "    --sklearn-color-text-on-default-background: var(--sg-text-color, var(--theme-code-foreground, var(--jp-content-font-color1, white)));\n",
       "    --sklearn-color-background: var(--sg-background-color, var(--theme-background, var(--jp-layout-color0, #111)));\n",
       "    --sklearn-color-border-box: var(--sg-text-color, var(--theme-code-foreground, var(--jp-content-font-color1, white)));\n",
       "    --sklearn-color-icon: #878787;\n",
       "  }\n",
       "}\n",
       "\n",
       "#sk-container-id-1 {\n",
       "  color: var(--sklearn-color-text);\n",
       "}\n",
       "\n",
       "#sk-container-id-1 pre {\n",
       "  padding: 0;\n",
       "}\n",
       "\n",
       "#sk-container-id-1 input.sk-hidden--visually {\n",
       "  border: 0;\n",
       "  clip: rect(1px 1px 1px 1px);\n",
       "  clip: rect(1px, 1px, 1px, 1px);\n",
       "  height: 1px;\n",
       "  margin: -1px;\n",
       "  overflow: hidden;\n",
       "  padding: 0;\n",
       "  position: absolute;\n",
       "  width: 1px;\n",
       "}\n",
       "\n",
       "#sk-container-id-1 div.sk-dashed-wrapped {\n",
       "  border: 1px dashed var(--sklearn-color-line);\n",
       "  margin: 0 0.4em 0.5em 0.4em;\n",
       "  box-sizing: border-box;\n",
       "  padding-bottom: 0.4em;\n",
       "  background-color: var(--sklearn-color-background);\n",
       "}\n",
       "\n",
       "#sk-container-id-1 div.sk-container {\n",
       "  /* jupyter's `normalize.less` sets `[hidden] { display: none; }`\n",
       "     but bootstrap.min.css set `[hidden] { display: none !important; }`\n",
       "     so we also need the `!important` here to be able to override the\n",
       "     default hidden behavior on the sphinx rendered scikit-learn.org.\n",
       "     See: https://github.com/scikit-learn/scikit-learn/issues/21755 */\n",
       "  display: inline-block !important;\n",
       "  position: relative;\n",
       "}\n",
       "\n",
       "#sk-container-id-1 div.sk-text-repr-fallback {\n",
       "  display: none;\n",
       "}\n",
       "\n",
       "div.sk-parallel-item,\n",
       "div.sk-serial,\n",
       "div.sk-item {\n",
       "  /* draw centered vertical line to link estimators */\n",
       "  background-image: linear-gradient(var(--sklearn-color-text-on-default-background), var(--sklearn-color-text-on-default-background));\n",
       "  background-size: 2px 100%;\n",
       "  background-repeat: no-repeat;\n",
       "  background-position: center center;\n",
       "}\n",
       "\n",
       "/* Parallel-specific style estimator block */\n",
       "\n",
       "#sk-container-id-1 div.sk-parallel-item::after {\n",
       "  content: \"\";\n",
       "  width: 100%;\n",
       "  border-bottom: 2px solid var(--sklearn-color-text-on-default-background);\n",
       "  flex-grow: 1;\n",
       "}\n",
       "\n",
       "#sk-container-id-1 div.sk-parallel {\n",
       "  display: flex;\n",
       "  align-items: stretch;\n",
       "  justify-content: center;\n",
       "  background-color: var(--sklearn-color-background);\n",
       "  position: relative;\n",
       "}\n",
       "\n",
       "#sk-container-id-1 div.sk-parallel-item {\n",
       "  display: flex;\n",
       "  flex-direction: column;\n",
       "}\n",
       "\n",
       "#sk-container-id-1 div.sk-parallel-item:first-child::after {\n",
       "  align-self: flex-end;\n",
       "  width: 50%;\n",
       "}\n",
       "\n",
       "#sk-container-id-1 div.sk-parallel-item:last-child::after {\n",
       "  align-self: flex-start;\n",
       "  width: 50%;\n",
       "}\n",
       "\n",
       "#sk-container-id-1 div.sk-parallel-item:only-child::after {\n",
       "  width: 0;\n",
       "}\n",
       "\n",
       "/* Serial-specific style estimator block */\n",
       "\n",
       "#sk-container-id-1 div.sk-serial {\n",
       "  display: flex;\n",
       "  flex-direction: column;\n",
       "  align-items: center;\n",
       "  background-color: var(--sklearn-color-background);\n",
       "  padding-right: 1em;\n",
       "  padding-left: 1em;\n",
       "}\n",
       "\n",
       "\n",
       "/* Toggleable style: style used for estimator/Pipeline/ColumnTransformer box that is\n",
       "clickable and can be expanded/collapsed.\n",
       "- Pipeline and ColumnTransformer use this feature and define the default style\n",
       "- Estimators will overwrite some part of the style using the `sk-estimator` class\n",
       "*/\n",
       "\n",
       "/* Pipeline and ColumnTransformer style (default) */\n",
       "\n",
       "#sk-container-id-1 div.sk-toggleable {\n",
       "  /* Default theme specific background. It is overwritten whether we have a\n",
       "  specific estimator or a Pipeline/ColumnTransformer */\n",
       "  background-color: var(--sklearn-color-background);\n",
       "}\n",
       "\n",
       "/* Toggleable label */\n",
       "#sk-container-id-1 label.sk-toggleable__label {\n",
       "  cursor: pointer;\n",
       "  display: block;\n",
       "  width: 100%;\n",
       "  margin-bottom: 0;\n",
       "  padding: 0.5em;\n",
       "  box-sizing: border-box;\n",
       "  text-align: center;\n",
       "}\n",
       "\n",
       "#sk-container-id-1 label.sk-toggleable__label-arrow:before {\n",
       "  /* Arrow on the left of the label */\n",
       "  content: \"▸\";\n",
       "  float: left;\n",
       "  margin-right: 0.25em;\n",
       "  color: var(--sklearn-color-icon);\n",
       "}\n",
       "\n",
       "#sk-container-id-1 label.sk-toggleable__label-arrow:hover:before {\n",
       "  color: var(--sklearn-color-text);\n",
       "}\n",
       "\n",
       "/* Toggleable content - dropdown */\n",
       "\n",
       "#sk-container-id-1 div.sk-toggleable__content {\n",
       "  max-height: 0;\n",
       "  max-width: 0;\n",
       "  overflow: hidden;\n",
       "  text-align: left;\n",
       "  /* unfitted */\n",
       "  background-color: var(--sklearn-color-unfitted-level-0);\n",
       "}\n",
       "\n",
       "#sk-container-id-1 div.sk-toggleable__content.fitted {\n",
       "  /* fitted */\n",
       "  background-color: var(--sklearn-color-fitted-level-0);\n",
       "}\n",
       "\n",
       "#sk-container-id-1 div.sk-toggleable__content pre {\n",
       "  margin: 0.2em;\n",
       "  border-radius: 0.25em;\n",
       "  color: var(--sklearn-color-text);\n",
       "  /* unfitted */\n",
       "  background-color: var(--sklearn-color-unfitted-level-0);\n",
       "}\n",
       "\n",
       "#sk-container-id-1 div.sk-toggleable__content.fitted pre {\n",
       "  /* unfitted */\n",
       "  background-color: var(--sklearn-color-fitted-level-0);\n",
       "}\n",
       "\n",
       "#sk-container-id-1 input.sk-toggleable__control:checked~div.sk-toggleable__content {\n",
       "  /* Expand drop-down */\n",
       "  max-height: 200px;\n",
       "  max-width: 100%;\n",
       "  overflow: auto;\n",
       "}\n",
       "\n",
       "#sk-container-id-1 input.sk-toggleable__control:checked~label.sk-toggleable__label-arrow:before {\n",
       "  content: \"▾\";\n",
       "}\n",
       "\n",
       "/* Pipeline/ColumnTransformer-specific style */\n",
       "\n",
       "#sk-container-id-1 div.sk-label input.sk-toggleable__control:checked~label.sk-toggleable__label {\n",
       "  color: var(--sklearn-color-text);\n",
       "  background-color: var(--sklearn-color-unfitted-level-2);\n",
       "}\n",
       "\n",
       "#sk-container-id-1 div.sk-label.fitted input.sk-toggleable__control:checked~label.sk-toggleable__label {\n",
       "  background-color: var(--sklearn-color-fitted-level-2);\n",
       "}\n",
       "\n",
       "/* Estimator-specific style */\n",
       "\n",
       "/* Colorize estimator box */\n",
       "#sk-container-id-1 div.sk-estimator input.sk-toggleable__control:checked~label.sk-toggleable__label {\n",
       "  /* unfitted */\n",
       "  background-color: var(--sklearn-color-unfitted-level-2);\n",
       "}\n",
       "\n",
       "#sk-container-id-1 div.sk-estimator.fitted input.sk-toggleable__control:checked~label.sk-toggleable__label {\n",
       "  /* fitted */\n",
       "  background-color: var(--sklearn-color-fitted-level-2);\n",
       "}\n",
       "\n",
       "#sk-container-id-1 div.sk-label label.sk-toggleable__label,\n",
       "#sk-container-id-1 div.sk-label label {\n",
       "  /* The background is the default theme color */\n",
       "  color: var(--sklearn-color-text-on-default-background);\n",
       "}\n",
       "\n",
       "/* On hover, darken the color of the background */\n",
       "#sk-container-id-1 div.sk-label:hover label.sk-toggleable__label {\n",
       "  color: var(--sklearn-color-text);\n",
       "  background-color: var(--sklearn-color-unfitted-level-2);\n",
       "}\n",
       "\n",
       "/* Label box, darken color on hover, fitted */\n",
       "#sk-container-id-1 div.sk-label.fitted:hover label.sk-toggleable__label.fitted {\n",
       "  color: var(--sklearn-color-text);\n",
       "  background-color: var(--sklearn-color-fitted-level-2);\n",
       "}\n",
       "\n",
       "/* Estimator label */\n",
       "\n",
       "#sk-container-id-1 div.sk-label label {\n",
       "  font-family: monospace;\n",
       "  font-weight: bold;\n",
       "  display: inline-block;\n",
       "  line-height: 1.2em;\n",
       "}\n",
       "\n",
       "#sk-container-id-1 div.sk-label-container {\n",
       "  text-align: center;\n",
       "}\n",
       "\n",
       "/* Estimator-specific */\n",
       "#sk-container-id-1 div.sk-estimator {\n",
       "  font-family: monospace;\n",
       "  border: 1px dotted var(--sklearn-color-border-box);\n",
       "  border-radius: 0.25em;\n",
       "  box-sizing: border-box;\n",
       "  margin-bottom: 0.5em;\n",
       "  /* unfitted */\n",
       "  background-color: var(--sklearn-color-unfitted-level-0);\n",
       "}\n",
       "\n",
       "#sk-container-id-1 div.sk-estimator.fitted {\n",
       "  /* fitted */\n",
       "  background-color: var(--sklearn-color-fitted-level-0);\n",
       "}\n",
       "\n",
       "/* on hover */\n",
       "#sk-container-id-1 div.sk-estimator:hover {\n",
       "  /* unfitted */\n",
       "  background-color: var(--sklearn-color-unfitted-level-2);\n",
       "}\n",
       "\n",
       "#sk-container-id-1 div.sk-estimator.fitted:hover {\n",
       "  /* fitted */\n",
       "  background-color: var(--sklearn-color-fitted-level-2);\n",
       "}\n",
       "\n",
       "/* Specification for estimator info (e.g. \"i\" and \"?\") */\n",
       "\n",
       "/* Common style for \"i\" and \"?\" */\n",
       "\n",
       ".sk-estimator-doc-link,\n",
       "a:link.sk-estimator-doc-link,\n",
       "a:visited.sk-estimator-doc-link {\n",
       "  float: right;\n",
       "  font-size: smaller;\n",
       "  line-height: 1em;\n",
       "  font-family: monospace;\n",
       "  background-color: var(--sklearn-color-background);\n",
       "  border-radius: 1em;\n",
       "  height: 1em;\n",
       "  width: 1em;\n",
       "  text-decoration: none !important;\n",
       "  margin-left: 1ex;\n",
       "  /* unfitted */\n",
       "  border: var(--sklearn-color-unfitted-level-1) 1pt solid;\n",
       "  color: var(--sklearn-color-unfitted-level-1);\n",
       "}\n",
       "\n",
       ".sk-estimator-doc-link.fitted,\n",
       "a:link.sk-estimator-doc-link.fitted,\n",
       "a:visited.sk-estimator-doc-link.fitted {\n",
       "  /* fitted */\n",
       "  border: var(--sklearn-color-fitted-level-1) 1pt solid;\n",
       "  color: var(--sklearn-color-fitted-level-1);\n",
       "}\n",
       "\n",
       "/* On hover */\n",
       "div.sk-estimator:hover .sk-estimator-doc-link:hover,\n",
       ".sk-estimator-doc-link:hover,\n",
       "div.sk-label-container:hover .sk-estimator-doc-link:hover,\n",
       ".sk-estimator-doc-link:hover {\n",
       "  /* unfitted */\n",
       "  background-color: var(--sklearn-color-unfitted-level-3);\n",
       "  color: var(--sklearn-color-background);\n",
       "  text-decoration: none;\n",
       "}\n",
       "\n",
       "div.sk-estimator.fitted:hover .sk-estimator-doc-link.fitted:hover,\n",
       ".sk-estimator-doc-link.fitted:hover,\n",
       "div.sk-label-container:hover .sk-estimator-doc-link.fitted:hover,\n",
       ".sk-estimator-doc-link.fitted:hover {\n",
       "  /* fitted */\n",
       "  background-color: var(--sklearn-color-fitted-level-3);\n",
       "  color: var(--sklearn-color-background);\n",
       "  text-decoration: none;\n",
       "}\n",
       "\n",
       "/* Span, style for the box shown on hovering the info icon */\n",
       ".sk-estimator-doc-link span {\n",
       "  display: none;\n",
       "  z-index: 9999;\n",
       "  position: relative;\n",
       "  font-weight: normal;\n",
       "  right: .2ex;\n",
       "  padding: .5ex;\n",
       "  margin: .5ex;\n",
       "  width: min-content;\n",
       "  min-width: 20ex;\n",
       "  max-width: 50ex;\n",
       "  color: var(--sklearn-color-text);\n",
       "  box-shadow: 2pt 2pt 4pt #999;\n",
       "  /* unfitted */\n",
       "  background: var(--sklearn-color-unfitted-level-0);\n",
       "  border: .5pt solid var(--sklearn-color-unfitted-level-3);\n",
       "}\n",
       "\n",
       ".sk-estimator-doc-link.fitted span {\n",
       "  /* fitted */\n",
       "  background: var(--sklearn-color-fitted-level-0);\n",
       "  border: var(--sklearn-color-fitted-level-3);\n",
       "}\n",
       "\n",
       ".sk-estimator-doc-link:hover span {\n",
       "  display: block;\n",
       "}\n",
       "\n",
       "/* \"?\"-specific style due to the `<a>` HTML tag */\n",
       "\n",
       "#sk-container-id-1 a.estimator_doc_link {\n",
       "  float: right;\n",
       "  font-size: 1rem;\n",
       "  line-height: 1em;\n",
       "  font-family: monospace;\n",
       "  background-color: var(--sklearn-color-background);\n",
       "  border-radius: 1rem;\n",
       "  height: 1rem;\n",
       "  width: 1rem;\n",
       "  text-decoration: none;\n",
       "  /* unfitted */\n",
       "  color: var(--sklearn-color-unfitted-level-1);\n",
       "  border: var(--sklearn-color-unfitted-level-1) 1pt solid;\n",
       "}\n",
       "\n",
       "#sk-container-id-1 a.estimator_doc_link.fitted {\n",
       "  /* fitted */\n",
       "  border: var(--sklearn-color-fitted-level-1) 1pt solid;\n",
       "  color: var(--sklearn-color-fitted-level-1);\n",
       "}\n",
       "\n",
       "/* On hover */\n",
       "#sk-container-id-1 a.estimator_doc_link:hover {\n",
       "  /* unfitted */\n",
       "  background-color: var(--sklearn-color-unfitted-level-3);\n",
       "  color: var(--sklearn-color-background);\n",
       "  text-decoration: none;\n",
       "}\n",
       "\n",
       "#sk-container-id-1 a.estimator_doc_link.fitted:hover {\n",
       "  /* fitted */\n",
       "  background-color: var(--sklearn-color-fitted-level-3);\n",
       "}\n",
       "</style><div id=\"sk-container-id-1\" class=\"sk-top-container\"><div class=\"sk-text-repr-fallback\"><pre>KNeighborsClassifier(n_neighbors=25)</pre><b>In a Jupyter environment, please rerun this cell to show the HTML representation or trust the notebook. <br />On GitHub, the HTML representation is unable to render, please try loading this page with nbviewer.org.</b></div><div class=\"sk-container\" hidden><div class=\"sk-item\"><div class=\"sk-estimator fitted sk-toggleable\"><input class=\"sk-toggleable__control sk-hidden--visually\" id=\"sk-estimator-id-1\" type=\"checkbox\" checked><label for=\"sk-estimator-id-1\" class=\"sk-toggleable__label fitted sk-toggleable__label-arrow fitted\">&nbsp;&nbsp;KNeighborsClassifier<a class=\"sk-estimator-doc-link fitted\" rel=\"noreferrer\" target=\"_blank\" href=\"https://scikit-learn.org/1.5/modules/generated/sklearn.neighbors.KNeighborsClassifier.html\">?<span>Documentation for KNeighborsClassifier</span></a><span class=\"sk-estimator-doc-link fitted\">i<span>Fitted</span></span></label><div class=\"sk-toggleable__content fitted\"><pre>KNeighborsClassifier(n_neighbors=25)</pre></div> </div></div></div></div>"
      ],
      "text/plain": [
       "KNeighborsClassifier(n_neighbors=25)"
      ]
     },
     "execution_count": 20,
     "metadata": {},
     "output_type": "execute_result"
    }
   ],
   "source": [
    "from sklearn.model_selection import train_test_split\n",
    "from sklearn.preprocessing import StandardScaler\n",
    "from sklearn.neighbors import KNeighborsClassifier\n",
    "from sklearn.metrics import accuracy_score, classification_report, confusion_matrix\n",
    "\n",
    "\n",
    "X_train, x_test, Y_train, y_test = train_test_split(X, Y, test_size = 0.2, random_state = 42)\n",
    "\n",
    "scaler = StandardScaler()\n",
    "\n",
    "X_train = scaler.fit_transform(X_train)\n",
    "x_test = scaler.transform(x_test)\n",
    "\n",
    "\n",
    "knn = KNeighborsClassifier(\n",
    "    n_neighbors = 25\n",
    ")\n",
    "\n",
    "knn.fit(X_train, Y_train)"
   ]
  },
  {
   "cell_type": "code",
   "execution_count": 21,
   "id": "f09ba26a",
   "metadata": {
    "execution": {
     "iopub.execute_input": "2024-08-28T17:47:47.541469Z",
     "iopub.status.busy": "2024-08-28T17:47:47.540675Z",
     "iopub.status.idle": "2024-08-28T17:47:48.024493Z",
     "shell.execute_reply": "2024-08-28T17:47:48.023062Z"
    },
    "papermill": {
     "duration": 0.512083,
     "end_time": "2024-08-28T17:47:48.028120",
     "exception": false,
     "start_time": "2024-08-28T17:47:47.516037",
     "status": "completed"
    },
    "tags": []
   },
   "outputs": [],
   "source": [
    "#print(X_train.shape)\n",
    "#print(x_test.shape)\n",
    "Y_pred = knn.predict(x_test)"
   ]
  },
  {
   "cell_type": "code",
   "execution_count": 22,
   "id": "3ab370b4",
   "metadata": {
    "execution": {
     "iopub.execute_input": "2024-08-28T17:47:48.085493Z",
     "iopub.status.busy": "2024-08-28T17:47:48.085017Z",
     "iopub.status.idle": "2024-08-28T17:47:48.095434Z",
     "shell.execute_reply": "2024-08-28T17:47:48.093416Z"
    },
    "papermill": {
     "duration": 0.042489,
     "end_time": "2024-08-28T17:47:48.098895",
     "exception": false,
     "start_time": "2024-08-28T17:47:48.056406",
     "status": "completed"
    },
    "tags": []
   },
   "outputs": [
    {
     "name": "stdout",
     "output_type": "stream",
     "text": [
      "Accuracy KNN: 65.5742003146303\n"
     ]
    }
   ],
   "source": [
    "Knn_accuracy = accuracy_score(y_test, Y_pred)\n",
    "print(f\"Accuracy KNN: {Knn_accuracy*100}\")"
   ]
  },
  {
   "cell_type": "code",
   "execution_count": 23,
   "id": "c2ebce64",
   "metadata": {
    "execution": {
     "iopub.execute_input": "2024-08-28T17:47:48.152161Z",
     "iopub.status.busy": "2024-08-28T17:47:48.151729Z",
     "iopub.status.idle": "2024-08-28T17:47:48.173509Z",
     "shell.execute_reply": "2024-08-28T17:47:48.172183Z"
    },
    "papermill": {
     "duration": 0.051835,
     "end_time": "2024-08-28T17:47:48.177293",
     "exception": false,
     "start_time": "2024-08-28T17:47:48.125458",
     "status": "completed"
    },
    "tags": []
   },
   "outputs": [
    {
     "name": "stdout",
     "output_type": "stream",
     "text": [
      "Classification Report:\n",
      "              precision    recall  f1-score   support\n",
      "\n",
      "           0       0.52      0.35      0.42      1358\n",
      "           1       0.70      0.82      0.75      2456\n",
      "\n",
      "    accuracy                           0.66      3814\n",
      "   macro avg       0.61      0.59      0.59      3814\n",
      "weighted avg       0.64      0.66      0.64      3814\n",
      "\n"
     ]
    }
   ],
   "source": [
    "print(\"Classification Report:\")\n",
    "print(classification_report(y_test, Y_pred))"
   ]
  },
  {
   "cell_type": "code",
   "execution_count": 24,
   "id": "8703c0ed",
   "metadata": {
    "execution": {
     "iopub.execute_input": "2024-08-28T17:47:48.229935Z",
     "iopub.status.busy": "2024-08-28T17:47:48.229436Z",
     "iopub.status.idle": "2024-08-28T17:47:48.460748Z",
     "shell.execute_reply": "2024-08-28T17:47:48.459406Z"
    },
    "papermill": {
     "duration": 0.266064,
     "end_time": "2024-08-28T17:47:48.466654",
     "exception": false,
     "start_time": "2024-08-28T17:47:48.200590",
     "status": "completed"
    },
    "tags": []
   },
   "outputs": [
    {
     "data": {
      "image/png": "[encoded data removed]",
      "text/plain": [
       "<Figure size 1200x800 with 1 Axes>"
      ]
     },
     "metadata": {},
     "output_type": "display_data"
    }
   ],
   "source": [
    "cm = confusion_matrix(y_test, Y_pred)\n",
    "\n",
    "plt.figure(figsize = (12, 8))\n",
    "sns.heatmap(cm, annot = True, fmt ='d' , cmap = \"binary\", cbar = False ,xticklabels=['Class 0', 'Class 1'], yticklabels=['Class 0', 'Class 1'])\n",
    "plt.xlabel(\"Predicated Label\")\n",
    "plt.ylabel(\"Actual Label\")\n",
    "plt.title(\"K Nearst Neighbor\")\n",
    "plt.show()\n"
   ]
  },
  {
   "cell_type": "markdown",
   "id": "b89d7911",
   "metadata": {
    "papermill": {
     "duration": 0.026493,
     "end_time": "2024-08-28T17:47:48.523389",
     "exception": false,
     "start_time": "2024-08-28T17:47:48.496896",
     "status": "completed"
    },
    "tags": []
   },
   "source": [
    "## SVM"
   ]
  },
  {
   "cell_type": "code",
   "execution_count": null,
   "id": "00c12e35",
   "metadata": {
    "execution": {
     "iopub.execute_input": "2024-08-28T17:47:48.582683Z",
     "iopub.status.busy": "2024-08-28T17:47:48.581347Z",
     "iopub.status.idle": "2024-08-28T17:47:58.667147Z",
     "shell.execute_reply": "2024-08-28T17:47:58.665803Z"
    },
    "papermill": {
     "duration": 10.120559,
     "end_time": "2024-08-28T17:47:58.670119",
     "exception": false,
     "start_time": "2024-08-28T17:47:48.549560",
     "status": "completed"
    },
    "tags": []
   },
   "outputs": [
    {
     "data": {
      "text/html": [
       "<style>#sk-container-id-2 {color: black;background-color: white;}#sk-container-id-2 pre{padding: 0;}#sk-container-id-2 div.sk-toggleable {background-color: white;}#sk-container-id-2 label.sk-toggleable__label {cursor: pointer;display: block;width: 100%;margin-bottom: 0;padding: 0.3em;box-sizing: border-box;text-align: center;}#sk-container-id-2 label.sk-toggleable__label-arrow:before {content: \"▸\";float: left;margin-right: 0.25em;color: #696969;}#sk-container-id-2 label.sk-toggleable__label-arrow:hover:before {color: black;}#sk-container-id-2 div.sk-estimator:hover label.sk-toggleable__label-arrow:before {color: black;}#sk-container-id-2 div.sk-toggleable__content {max-height: 0;max-width: 0;overflow: hidden;text-align: left;background-color: #f0f8ff;}#sk-container-id-2 div.sk-toggleable__content pre {margin: 0.2em;color: black;border-radius: 0.25em;background-color: #f0f8ff;}#sk-container-id-2 input.sk-toggleable__control:checked~div.sk-toggleable__content {max-height: 200px;max-width: 100%;overflow: auto;}#sk-container-id-2 input.sk-toggleable__control:checked~label.sk-toggleable__label-arrow:before {content: \"▾\";}#sk-container-id-2 div.sk-estimator input.sk-toggleable__control:checked~label.sk-toggleable__label {background-color: #d4ebff;}#sk-container-id-2 div.sk-label input.sk-toggleable__control:checked~label.sk-toggleable__label {background-color: #d4ebff;}#sk-container-id-2 input.sk-hidden--visually {border: 0;clip: rect(1px 1px 1px 1px);clip: rect(1px, 1px, 1px, 1px);height: 1px;margin: -1px;overflow: hidden;padding: 0;position: absolute;width: 1px;}#sk-container-id-2 div.sk-estimator {font-family: monospace;background-color: #f0f8ff;border: 1px dotted black;border-radius: 0.25em;box-sizing: border-box;margin-bottom: 0.5em;}#sk-container-id-2 div.sk-estimator:hover {background-color: #d4ebff;}#sk-container-id-2 div.sk-parallel-item::after {content: \"\";width: 100%;border-bottom: 1px solid gray;flex-grow: 1;}#sk-container-id-2 div.sk-label:hover label.sk-toggleable__label {background-color: #d4ebff;}#sk-container-id-2 div.sk-serial::before {content: \"\";position: absolute;border-left: 1px solid gray;box-sizing: border-box;top: 0;bottom: 0;left: 50%;z-index: 0;}#sk-container-id-2 div.sk-serial {display: flex;flex-direction: column;align-items: center;background-color: white;padding-right: 0.2em;padding-left: 0.2em;position: relative;}#sk-container-id-2 div.sk-item {position: relative;z-index: 1;}#sk-container-id-2 div.sk-parallel {display: flex;align-items: stretch;justify-content: center;background-color: white;position: relative;}#sk-container-id-2 div.sk-item::before, #sk-container-id-2 div.sk-parallel-item::before {content: \"\";position: absolute;border-left: 1px solid gray;box-sizing: border-box;top: 0;bottom: 0;left: 50%;z-index: -1;}#sk-container-id-2 div.sk-parallel-item {display: flex;flex-direction: column;z-index: 1;position: relative;background-color: white;}#sk-container-id-2 div.sk-parallel-item:first-child::after {align-self: flex-end;width: 50%;}#sk-container-id-2 div.sk-parallel-item:last-child::after {align-self: flex-start;width: 50%;}#sk-container-id-2 div.sk-parallel-item:only-child::after {width: 0;}#sk-container-id-2 div.sk-dashed-wrapped {border: 1px dashed gray;margin: 0 0.4em 0.5em 0.4em;box-sizing: border-box;padding-bottom: 0.4em;background-color: white;}#sk-container-id-2 div.sk-label label {font-family: monospace;font-weight: bold;display: inline-block;line-height: 1.2em;}#sk-container-id-2 div.sk-label-container {text-align: center;}#sk-container-id-2 div.sk-container {/* jupyter's `normalize.less` sets `[hidden] { display: none; }` but bootstrap.min.css set `[hidden] { display: none !important; }` so we also need the `!important` here to be able to override the default hidden behavior on the sphinx rendered scikit-learn.org. See: https://github.com/scikit-learn/scikit-learn/issues/21755 */display: inline-block !important;position: relative;}#sk-container-id-2 div.sk-text-repr-fallback {display: none;}</style><div id=\"sk-container-id-2\" class=\"sk-top-container\"><div class=\"sk-text-repr-fallback\"><pre>SVC(kernel=&#x27;linear&#x27;)</pre><b>In a Jupyter environment, please rerun this cell to show the HTML representation or trust the notebook. <br />On GitHub, the HTML representation is unable to render, please try loading this page with nbviewer.org.</b></div><div class=\"sk-container\" hidden><div class=\"sk-item\"><div class=\"sk-estimator sk-toggleable\"><input class=\"sk-toggleable__control sk-hidden--visually\" id=\"sk-estimator-id-2\" type=\"checkbox\" checked><label for=\"sk-estimator-id-2\" class=\"sk-toggleable__label sk-toggleable__label-arrow\">SVC</label><div class=\"sk-toggleable__content\"><pre>SVC(kernel=&#x27;linear&#x27;)</pre></div></div></div></div></div>"
      ],
      "text/plain": [
       "SVC(kernel='linear')"
      ]
     },
     "execution_count": 23,
     "metadata": {},
     "output_type": "execute_result"
    }
   ],
   "source": [
    "from sklearn.svm import SVC\n",
    "\n",
    "svm = SVC(\n",
    "    kernel =\"linear\",\n",
    "    C = 1.0,\n",
    "    degree = 3,\n",
    "    gamma = \"scale\"\n",
    ")\n",
    "svm.fit(X_train, Y_train)"
   ]
  },
  {
   "cell_type": "code",
   "execution_count": 24,
   "id": "5e9966ad",
   "metadata": {
    "execution": {
     "iopub.execute_input": "2024-08-28T17:47:58.719004Z",
     "iopub.status.busy": "2024-08-28T17:47:58.717712Z",
     "iopub.status.idle": "2024-08-28T17:47:59.736084Z",
     "shell.execute_reply": "2024-08-28T17:47:59.734604Z"
    },
    "papermill": {
     "duration": 1.04609,
     "end_time": "2024-08-28T17:47:59.739360",
     "exception": false,
     "start_time": "2024-08-28T17:47:58.693270",
     "status": "completed"
    },
    "tags": []
   },
   "outputs": [],
   "source": [
    "y_pred = svm.predict(x_test)"
   ]
  },
  {
   "cell_type": "code",
   "execution_count": 25,
   "id": "61e78c3f",
   "metadata": {
    "execution": {
     "iopub.execute_input": "2024-08-28T17:47:59.789730Z",
     "iopub.status.busy": "2024-08-28T17:47:59.789288Z",
     "iopub.status.idle": "2024-08-28T17:47:59.798684Z",
     "shell.execute_reply": "2024-08-28T17:47:59.797308Z"
    },
    "papermill": {
     "duration": 0.038117,
     "end_time": "2024-08-28T17:47:59.801484",
     "exception": false,
     "start_time": "2024-08-28T17:47:59.763367",
     "status": "completed"
    },
    "tags": []
   },
   "outputs": [
    {
     "name": "stdout",
     "output_type": "stream",
     "text": [
      "Accuracy SVM: 66.57052962768746\n"
     ]
    }
   ],
   "source": [
    "from sklearn.metrics import accuracy_score, classification_report, confusion_matrix\n",
    "\n",
    "svm_accuracy = accuracy_score(y_test, y_pred)\n",
    "print(\"Accuracy SVM:\", svm_accuracy*100)"
   ]
  },
  {
   "cell_type": "code",
   "execution_count": 26,
   "id": "09125b55",
   "metadata": {
    "execution": {
     "iopub.execute_input": "2024-08-28T17:47:59.853081Z",
     "iopub.status.busy": "2024-08-28T17:47:59.852061Z",
     "iopub.status.idle": "2024-08-28T17:47:59.875378Z",
     "shell.execute_reply": "2024-08-28T17:47:59.873889Z"
    },
    "papermill": {
     "duration": 0.052417,
     "end_time": "2024-08-28T17:47:59.878328",
     "exception": false,
     "start_time": "2024-08-28T17:47:59.825911",
     "status": "completed"
    },
    "tags": []
   },
   "outputs": [
    {
     "name": "stdout",
     "output_type": "stream",
     "text": [
      "              precision    recall  f1-score   support\n",
      "\n",
      "           0       0.59      0.20      0.30      1358\n",
      "           1       0.68      0.92      0.78      2456\n",
      "\n",
      "    accuracy                           0.67      3814\n",
      "   macro avg       0.63      0.56      0.54      3814\n",
      "weighted avg       0.65      0.67      0.61      3814\n",
      "\n"
     ]
    }
   ],
   "source": [
    "print(classification_report(y_test, y_pred))"
   ]
  },
  {
   "cell_type": "code",
   "execution_count": 27,
   "id": "3b49d96a",
   "metadata": {
    "execution": {
     "iopub.execute_input": "2024-08-28T17:47:59.927163Z",
     "iopub.status.busy": "2024-08-28T17:47:59.926732Z",
     "iopub.status.idle": "2024-08-28T17:48:00.106076Z",
     "shell.execute_reply": "2024-08-28T17:48:00.104194Z"
    },
    "papermill": {
     "duration": 0.21645,
     "end_time": "2024-08-28T17:48:00.118385",
     "exception": false,
     "start_time": "2024-08-28T17:47:59.901935",
     "status": "completed"
    },
    "tags": []
   },
   "outputs": [
    {
     "data": {
      "image/png": "[encoded data removed]",
      "text/plain": [
       "<Figure size 1200x800 with 1 Axes>"
      ]
     },
     "metadata": {},
     "output_type": "display_data"
    }
   ],
   "source": [
    "cm = confusion_matrix(y_test, y_pred)\n",
    "\n",
    "plt.figure(figsize = (12, 8))\n",
    "sns.heatmap(cm, annot = True, fmt ='d' , cmap = \"binary\", cbar = False ,xticklabels=['Class 0', 'Class 1'], yticklabels=['Class 0', 'Class 1'])\n",
    "plt.xlabel(\"Predicated Label\")\n",
    "plt.ylabel(\"Actual Label\")\n",
    "plt.title(\"Support Vector Machine\")\n",
    "plt.show()"
   ]
  },
  {
   "cell_type": "markdown",
   "id": "47f21e7a",
   "metadata": {
    "papermill": {
     "duration": 0.023655,
     "end_time": "2024-08-28T17:48:00.181721",
     "exception": false,
     "start_time": "2024-08-28T17:48:00.158066",
     "status": "completed"
    },
    "tags": []
   },
   "source": [
    "## Random Forest"
   ]
  },
  {
   "cell_type": "code",
   "execution_count": null,
   "id": "e69be116",
   "metadata": {
    "execution": {
     "iopub.execute_input": "2024-08-28T17:48:00.231644Z",
     "iopub.status.busy": "2024-08-28T17:48:00.231125Z",
     "iopub.status.idle": "2024-08-28T17:48:05.062304Z",
     "shell.execute_reply": "2024-08-28T17:48:05.060817Z"
    },
    "papermill": {
     "duration": 4.860305,
     "end_time": "2024-08-28T17:48:05.065934",
     "exception": false,
     "start_time": "2024-08-28T17:48:00.205629",
     "status": "completed"
    },
    "tags": []
   },
   "outputs": [
    {
     "data": {
      "text/html": [
       "<style>#sk-container-id-3 {color: black;background-color: white;}#sk-container-id-3 pre{padding: 0;}#sk-container-id-3 div.sk-toggleable {background-color: white;}#sk-container-id-3 label.sk-toggleable__label {cursor: pointer;display: block;width: 100%;margin-bottom: 0;padding: 0.3em;box-sizing: border-box;text-align: center;}#sk-container-id-3 label.sk-toggleable__label-arrow:before {content: \"▸\";float: left;margin-right: 0.25em;color: #696969;}#sk-container-id-3 label.sk-toggleable__label-arrow:hover:before {color: black;}#sk-container-id-3 div.sk-estimator:hover label.sk-toggleable__label-arrow:before {color: black;}#sk-container-id-3 div.sk-toggleable__content {max-height: 0;max-width: 0;overflow: hidden;text-align: left;background-color: #f0f8ff;}#sk-container-id-3 div.sk-toggleable__content pre {margin: 0.2em;color: black;border-radius: 0.25em;background-color: #f0f8ff;}#sk-container-id-3 input.sk-toggleable__control:checked~div.sk-toggleable__content {max-height: 200px;max-width: 100%;overflow: auto;}#sk-container-id-3 input.sk-toggleable__control:checked~label.sk-toggleable__label-arrow:before {content: \"▾\";}#sk-container-id-3 div.sk-estimator input.sk-toggleable__control:checked~label.sk-toggleable__label {background-color: #d4ebff;}#sk-container-id-3 div.sk-label input.sk-toggleable__control:checked~label.sk-toggleable__label {background-color: #d4ebff;}#sk-container-id-3 input.sk-hidden--visually {border: 0;clip: rect(1px 1px 1px 1px);clip: rect(1px, 1px, 1px, 1px);height: 1px;margin: -1px;overflow: hidden;padding: 0;position: absolute;width: 1px;}#sk-container-id-3 div.sk-estimator {font-family: monospace;background-color: #f0f8ff;border: 1px dotted black;border-radius: 0.25em;box-sizing: border-box;margin-bottom: 0.5em;}#sk-container-id-3 div.sk-estimator:hover {background-color: #d4ebff;}#sk-container-id-3 div.sk-parallel-item::after {content: \"\";width: 100%;border-bottom: 1px solid gray;flex-grow: 1;}#sk-container-id-3 div.sk-label:hover label.sk-toggleable__label {background-color: #d4ebff;}#sk-container-id-3 div.sk-serial::before {content: \"\";position: absolute;border-left: 1px solid gray;box-sizing: border-box;top: 0;bottom: 0;left: 50%;z-index: 0;}#sk-container-id-3 div.sk-serial {display: flex;flex-direction: column;align-items: center;background-color: white;padding-right: 0.2em;padding-left: 0.2em;position: relative;}#sk-container-id-3 div.sk-item {position: relative;z-index: 1;}#sk-container-id-3 div.sk-parallel {display: flex;align-items: stretch;justify-content: center;background-color: white;position: relative;}#sk-container-id-3 div.sk-item::before, #sk-container-id-3 div.sk-parallel-item::before {content: \"\";position: absolute;border-left: 1px solid gray;box-sizing: border-box;top: 0;bottom: 0;left: 50%;z-index: -1;}#sk-container-id-3 div.sk-parallel-item {display: flex;flex-direction: column;z-index: 1;position: relative;background-color: white;}#sk-container-id-3 div.sk-parallel-item:first-child::after {align-self: flex-end;width: 50%;}#sk-container-id-3 div.sk-parallel-item:last-child::after {align-self: flex-start;width: 50%;}#sk-container-id-3 div.sk-parallel-item:only-child::after {width: 0;}#sk-container-id-3 div.sk-dashed-wrapped {border: 1px dashed gray;margin: 0 0.4em 0.5em 0.4em;box-sizing: border-box;padding-bottom: 0.4em;background-color: white;}#sk-container-id-3 div.sk-label label {font-family: monospace;font-weight: bold;display: inline-block;line-height: 1.2em;}#sk-container-id-3 div.sk-label-container {text-align: center;}#sk-container-id-3 div.sk-container {/* jupyter's `normalize.less` sets `[hidden] { display: none; }` but bootstrap.min.css set `[hidden] { display: none !important; }` so we also need the `!important` here to be able to override the default hidden behavior on the sphinx rendered scikit-learn.org. See: https://github.com/scikit-learn/scikit-learn/issues/21755 */display: inline-block !important;position: relative;}#sk-container-id-3 div.sk-text-repr-fallback {display: none;}</style><div id=\"sk-container-id-3\" class=\"sk-top-container\"><div class=\"sk-text-repr-fallback\"><pre>RandomForestClassifier(random_state=42)</pre><b>In a Jupyter environment, please rerun this cell to show the HTML representation or trust the notebook. <br />On GitHub, the HTML representation is unable to render, please try loading this page with nbviewer.org.</b></div><div class=\"sk-container\" hidden><div class=\"sk-item\"><div class=\"sk-estimator sk-toggleable\"><input class=\"sk-toggleable__control sk-hidden--visually\" id=\"sk-estimator-id-3\" type=\"checkbox\" checked><label for=\"sk-estimator-id-3\" class=\"sk-toggleable__label sk-toggleable__label-arrow\">RandomForestClassifier</label><div class=\"sk-toggleable__content\"><pre>RandomForestClassifier(random_state=42)</pre></div></div></div></div></div>"
      ],
      "text/plain": [
       "RandomForestClassifier(random_state=42)"
      ]
     },
     "execution_count": 28,
     "metadata": {},
     "output_type": "execute_result"
    }
   ],
   "source": [
    "from sklearn.ensemble import RandomForestClassifier\n",
    "\n",
    "rdf = RandomForestClassifier(\n",
    "    n_estimators = 100,\n",
    "    random_state = 42\n",
    ")\n",
    "rdf.fit(X_train, Y_train)"
   ]
  },
  {
   "cell_type": "code",
   "execution_count": 29,
   "id": "48946bb6",
   "metadata": {
    "execution": {
     "iopub.execute_input": "2024-08-28T17:48:05.119913Z",
     "iopub.status.busy": "2024-08-28T17:48:05.118704Z",
     "iopub.status.idle": "2024-08-28T17:48:05.231675Z",
     "shell.execute_reply": "2024-08-28T17:48:05.230309Z"
    },
    "papermill": {
     "duration": 0.141469,
     "end_time": "2024-08-28T17:48:05.234724",
     "exception": false,
     "start_time": "2024-08-28T17:48:05.093255",
     "status": "completed"
    },
    "tags": []
   },
   "outputs": [],
   "source": [
    "Rfy_pred = rdf.predict(x_test)"
   ]
  },
  {
   "cell_type": "code",
   "execution_count": 30,
   "id": "1304ca26",
   "metadata": {
    "execution": {
     "iopub.execute_input": "2024-08-28T17:48:05.286593Z",
     "iopub.status.busy": "2024-08-28T17:48:05.286129Z",
     "iopub.status.idle": "2024-08-28T17:48:05.295712Z",
     "shell.execute_reply": "2024-08-28T17:48:05.294278Z"
    },
    "papermill": {
     "duration": 0.038901,
     "end_time": "2024-08-28T17:48:05.298756",
     "exception": false,
     "start_time": "2024-08-28T17:48:05.259855",
     "status": "completed"
    },
    "tags": []
   },
   "outputs": [
    {
     "name": "stdout",
     "output_type": "stream",
     "text": [
      "Accuracy RandomForest:  65.52176192973256\n"
     ]
    }
   ],
   "source": [
    "from sklearn.metrics import accuracy_score, confusion_matrix, classification_report\n",
    "\n",
    "rdf_accuracy = accuracy_score(Rfy_pred, y_test)\n",
    "print(\"Accuracy RandomForest: \", rdf_accuracy*100)"
   ]
  },
  {
   "cell_type": "code",
   "execution_count": 31,
   "id": "61bc862b",
   "metadata": {
    "execution": {
     "iopub.execute_input": "2024-08-28T17:48:05.350275Z",
     "iopub.status.busy": "2024-08-28T17:48:05.349820Z",
     "iopub.status.idle": "2024-08-28T17:48:05.372570Z",
     "shell.execute_reply": "2024-08-28T17:48:05.371343Z"
    },
    "papermill": {
     "duration": 0.051629,
     "end_time": "2024-08-28T17:48:05.375551",
     "exception": false,
     "start_time": "2024-08-28T17:48:05.323922",
     "status": "completed"
    },
    "tags": []
   },
   "outputs": [
    {
     "name": "stdout",
     "output_type": "stream",
     "text": [
      "              precision    recall  f1-score   support\n",
      "\n",
      "           0       0.52      0.40      0.45      1358\n",
      "           1       0.71      0.80      0.75      2456\n",
      "\n",
      "    accuracy                           0.66      3814\n",
      "   macro avg       0.61      0.60      0.60      3814\n",
      "weighted avg       0.64      0.66      0.64      3814\n",
      "\n"
     ]
    }
   ],
   "source": [
    "print(classification_report(y_test, Rfy_pred))"
   ]
  },
  {
   "cell_type": "code",
   "execution_count": 32,
   "id": "962b0d84",
   "metadata": {
    "execution": {
     "iopub.execute_input": "2024-08-28T17:48:05.426465Z",
     "iopub.status.busy": "2024-08-28T17:48:05.426009Z",
     "iopub.status.idle": "2024-08-28T17:48:05.660128Z",
     "shell.execute_reply": "2024-08-28T17:48:05.658835Z"
    },
    "papermill": {
     "duration": 0.262903,
     "end_time": "2024-08-28T17:48:05.662809",
     "exception": false,
     "start_time": "2024-08-28T17:48:05.399906",
     "status": "completed"
    },
    "tags": []
   },
   "outputs": [
    {
     "data": {
      "image/png": "[encoded data removed]",
      "text/plain": [
       "<Figure size 1200x800 with 1 Axes>"
      ]
     },
     "metadata": {},
     "output_type": "display_data"
    }
   ],
   "source": [
    "cm = confusion_matrix(y_test, Rfy_pred)\n",
    "\n",
    "plt.figure(figsize = (12, 8))\n",
    "sns.heatmap(cm, annot = True, fmt ='d' , cmap = \"binary\", cbar = False ,xticklabels=['Class 0', 'Class 1'], yticklabels=['Class 0', 'Class 1'])\n",
    "plt.xlabel(\"Predicated Label\")\n",
    "plt.ylabel(\"Actual Label\")\n",
    "plt.title(\"Random Forest\")\n",
    "plt.show()"
   ]
  },
  {
   "cell_type": "markdown",
   "id": "b79ac868",
   "metadata": {
    "papermill": {
     "duration": 0.025094,
     "end_time": "2024-08-28T17:48:05.713917",
     "exception": false,
     "start_time": "2024-08-28T17:48:05.688823",
     "status": "completed"
    },
    "tags": []
   },
   "source": [
    "## XGBoost"
   ]
  },
  {
   "cell_type": "code",
   "execution_count": 33,
   "id": "c0a9fe13",
   "metadata": {
    "execution": {
     "iopub.execute_input": "2024-08-28T17:48:05.766330Z",
     "iopub.status.busy": "2024-08-28T17:48:05.765861Z",
     "iopub.status.idle": "2024-08-28T17:48:23.891866Z",
     "shell.execute_reply": "2024-08-28T17:48:23.890191Z"
    },
    "papermill": {
     "duration": 18.155213,
     "end_time": "2024-08-28T17:48:23.894816",
     "exception": false,
     "start_time": "2024-08-28T17:48:05.739603",
     "status": "completed"
    },
    "tags": []
   },
   "outputs": [
    {
     "name": "stdout",
     "output_type": "stream",
     "text": [
      "Requirement already satisfied: xgboost in /opt/conda/lib/python3.10/site-packages (2.0.3)\r\n",
      "Requirement already satisfied: numpy in /opt/conda/lib/python3.10/site-packages (from xgboost) (1.26.4)\r\n",
      "Requirement already satisfied: scipy in /opt/conda/lib/python3.10/site-packages (from xgboost) (1.11.4)\r\n",
      "Note: you may need to restart the kernel to use updated packages.\n"
     ]
    }
   ],
   "source": [
    "pip install xgboost"
   ]
  },
  {
   "cell_type": "code",
   "execution_count": null,
   "id": "c903a481",
   "metadata": {
    "execution": {
     "iopub.execute_input": "2024-08-28T17:48:23.948430Z",
     "iopub.status.busy": "2024-08-28T17:48:23.947937Z",
     "iopub.status.idle": "2024-08-28T17:48:24.500762Z",
     "shell.execute_reply": "2024-08-28T17:48:24.498649Z"
    },
    "papermill": {
     "duration": 0.584872,
     "end_time": "2024-08-28T17:48:24.505505",
     "exception": false,
     "start_time": "2024-08-28T17:48:23.920633",
     "status": "completed"
    },
    "tags": []
   },
   "outputs": [
    {
     "data": {
      "text/html": [
       "<style>#sk-container-id-4 {color: black;background-color: white;}#sk-container-id-4 pre{padding: 0;}#sk-container-id-4 div.sk-toggleable {background-color: white;}#sk-container-id-4 label.sk-toggleable__label {cursor: pointer;display: block;width: 100%;margin-bottom: 0;padding: 0.3em;box-sizing: border-box;text-align: center;}#sk-container-id-4 label.sk-toggleable__label-arrow:before {content: \"▸\";float: left;margin-right: 0.25em;color: #696969;}#sk-container-id-4 label.sk-toggleable__label-arrow:hover:before {color: black;}#sk-container-id-4 div.sk-estimator:hover label.sk-toggleable__label-arrow:before {color: black;}#sk-container-id-4 div.sk-toggleable__content {max-height: 0;max-width: 0;overflow: hidden;text-align: left;background-color: #f0f8ff;}#sk-container-id-4 div.sk-toggleable__content pre {margin: 0.2em;color: black;border-radius: 0.25em;background-color: #f0f8ff;}#sk-container-id-4 input.sk-toggleable__control:checked~div.sk-toggleable__content {max-height: 200px;max-width: 100%;overflow: auto;}#sk-container-id-4 input.sk-toggleable__control:checked~label.sk-toggleable__label-arrow:before {content: \"▾\";}#sk-container-id-4 div.sk-estimator input.sk-toggleable__control:checked~label.sk-toggleable__label {background-color: #d4ebff;}#sk-container-id-4 div.sk-label input.sk-toggleable__control:checked~label.sk-toggleable__label {background-color: #d4ebff;}#sk-container-id-4 input.sk-hidden--visually {border: 0;clip: rect(1px 1px 1px 1px);clip: rect(1px, 1px, 1px, 1px);height: 1px;margin: -1px;overflow: hidden;padding: 0;position: absolute;width: 1px;}#sk-container-id-4 div.sk-estimator {font-family: monospace;background-color: #f0f8ff;border: 1px dotted black;border-radius: 0.25em;box-sizing: border-box;margin-bottom: 0.5em;}#sk-container-id-4 div.sk-estimator:hover {background-color: #d4ebff;}#sk-container-id-4 div.sk-parallel-item::after {content: \"\";width: 100%;border-bottom: 1px solid gray;flex-grow: 1;}#sk-container-id-4 div.sk-label:hover label.sk-toggleable__label {background-color: #d4ebff;}#sk-container-id-4 div.sk-serial::before {content: \"\";position: absolute;border-left: 1px solid gray;box-sizing: border-box;top: 0;bottom: 0;left: 50%;z-index: 0;}#sk-container-id-4 div.sk-serial {display: flex;flex-direction: column;align-items: center;background-color: white;padding-right: 0.2em;padding-left: 0.2em;position: relative;}#sk-container-id-4 div.sk-item {position: relative;z-index: 1;}#sk-container-id-4 div.sk-parallel {display: flex;align-items: stretch;justify-content: center;background-color: white;position: relative;}#sk-container-id-4 div.sk-item::before, #sk-container-id-4 div.sk-parallel-item::before {content: \"\";position: absolute;border-left: 1px solid gray;box-sizing: border-box;top: 0;bottom: 0;left: 50%;z-index: -1;}#sk-container-id-4 div.sk-parallel-item {display: flex;flex-direction: column;z-index: 1;position: relative;background-color: white;}#sk-container-id-4 div.sk-parallel-item:first-child::after {align-self: flex-end;width: 50%;}#sk-container-id-4 div.sk-parallel-item:last-child::after {align-self: flex-start;width: 50%;}#sk-container-id-4 div.sk-parallel-item:only-child::after {width: 0;}#sk-container-id-4 div.sk-dashed-wrapped {border: 1px dashed gray;margin: 0 0.4em 0.5em 0.4em;box-sizing: border-box;padding-bottom: 0.4em;background-color: white;}#sk-container-id-4 div.sk-label label {font-family: monospace;font-weight: bold;display: inline-block;line-height: 1.2em;}#sk-container-id-4 div.sk-label-container {text-align: center;}#sk-container-id-4 div.sk-container {/* jupyter's `normalize.less` sets `[hidden] { display: none; }` but bootstrap.min.css set `[hidden] { display: none !important; }` so we also need the `!important` here to be able to override the default hidden behavior on the sphinx rendered scikit-learn.org. See: https://github.com/scikit-learn/scikit-learn/issues/21755 */display: inline-block !important;position: relative;}#sk-container-id-4 div.sk-text-repr-fallback {display: none;}</style><div id=\"sk-container-id-4\" class=\"sk-top-container\"><div class=\"sk-text-repr-fallback\"><pre>XGBClassifier(base_score=None, booster=None, callbacks=None,\n",
       "              colsample_bylevel=None, colsample_bynode=None,\n",
       "              colsample_bytree=None, device=None, early_stopping_rounds=None,\n",
       "              enable_categorical=False, eval_metric=&#x27;logloss&#x27;,\n",
       "              feature_types=None, gamma=None, grow_policy=None,\n",
       "              importance_type=None, interaction_constraints=None,\n",
       "              learning_rate=None, max_bin=None, max_cat_threshold=None,\n",
       "              max_cat_to_onehot=None, max_delta_step=None, max_depth=None,\n",
       "              max_leaves=None, min_child_weight=None, missing=nan,\n",
       "              monotone_constraints=None, multi_strategy=None, n_estimators=100,\n",
       "              n_jobs=None, num_parallel_tree=None, random_state=42, ...)</pre><b>In a Jupyter environment, please rerun this cell to show the HTML representation or trust the notebook. <br />On GitHub, the HTML representation is unable to render, please try loading this page with nbviewer.org.</b></div><div class=\"sk-container\" hidden><div class=\"sk-item\"><div class=\"sk-estimator sk-toggleable\"><input class=\"sk-toggleable__control sk-hidden--visually\" id=\"sk-estimator-id-4\" type=\"checkbox\" checked><label for=\"sk-estimator-id-4\" class=\"sk-toggleable__label sk-toggleable__label-arrow\">XGBClassifier</label><div class=\"sk-toggleable__content\"><pre>XGBClassifier(base_score=None, booster=None, callbacks=None,\n",
       "              colsample_bylevel=None, colsample_bynode=None,\n",
       "              colsample_bytree=None, device=None, early_stopping_rounds=None,\n",
       "              enable_categorical=False, eval_metric=&#x27;logloss&#x27;,\n",
       "              feature_types=None, gamma=None, grow_policy=None,\n",
       "              importance_type=None, interaction_constraints=None,\n",
       "              learning_rate=None, max_bin=None, max_cat_threshold=None,\n",
       "              max_cat_to_onehot=None, max_delta_step=None, max_depth=None,\n",
       "              max_leaves=None, min_child_weight=None, missing=nan,\n",
       "              monotone_constraints=None, multi_strategy=None, n_estimators=100,\n",
       "              n_jobs=None, num_parallel_tree=None, random_state=42, ...)</pre></div></div></div></div></div>"
      ],
      "text/plain": [
       "XGBClassifier(base_score=None, booster=None, callbacks=None,\n",
       "              colsample_bylevel=None, colsample_bynode=None,\n",
       "              colsample_bytree=None, device=None, early_stopping_rounds=None,\n",
       "              enable_categorical=False, eval_metric='logloss',\n",
       "              feature_types=None, gamma=None, grow_policy=None,\n",
       "              importance_type=None, interaction_constraints=None,\n",
       "              learning_rate=None, max_bin=None, max_cat_threshold=None,\n",
       "              max_cat_to_onehot=None, max_delta_step=None, max_depth=None,\n",
       "              max_leaves=None, min_child_weight=None, missing=nan,\n",
       "              monotone_constraints=None, multi_strategy=None, n_estimators=100,\n",
       "              n_jobs=None, num_parallel_tree=None, random_state=42, ...)"
      ]
     },
     "execution_count": 34,
     "metadata": {},
     "output_type": "execute_result"
    }
   ],
   "source": [
    "import xgboost as xgb\n",
    "from xgboost import XGBClassifier\n",
    "\n",
    "xgb = XGBClassifier(\n",
    "    n_estimators = 100,\n",
    "    random_state = 42,\n",
    "    use_label_encoder=False,\n",
    "    eval_metric = 'logloss'\n",
    ")\n",
    "xgb.fit(X_train, Y_train)"
   ]
  },
  {
   "cell_type": "code",
   "execution_count": 35,
   "id": "f077b9f1",
   "metadata": {
    "execution": {
     "iopub.execute_input": "2024-08-28T17:48:24.560902Z",
     "iopub.status.busy": "2024-08-28T17:48:24.560416Z",
     "iopub.status.idle": "2024-08-28T17:48:24.574734Z",
     "shell.execute_reply": "2024-08-28T17:48:24.573576Z"
    },
    "papermill": {
     "duration": 0.045343,
     "end_time": "2024-08-28T17:48:24.577658",
     "exception": false,
     "start_time": "2024-08-28T17:48:24.532315",
     "status": "completed"
    },
    "tags": []
   },
   "outputs": [],
   "source": [
    "xgbY_pred = xgb.predict(x_test)"
   ]
  },
  {
   "cell_type": "code",
   "execution_count": 36,
   "id": "72c5f111",
   "metadata": {
    "execution": {
     "iopub.execute_input": "2024-08-28T17:48:24.635498Z",
     "iopub.status.busy": "2024-08-28T17:48:24.635008Z",
     "iopub.status.idle": "2024-08-28T17:48:24.645798Z",
     "shell.execute_reply": "2024-08-28T17:48:24.644340Z"
    },
    "papermill": {
     "duration": 0.042857,
     "end_time": "2024-08-28T17:48:24.648901",
     "exception": false,
     "start_time": "2024-08-28T17:48:24.606044",
     "status": "completed"
    },
    "tags": []
   },
   "outputs": [
    {
     "name": "stdout",
     "output_type": "stream",
     "text": [
      "Accuracy XGBoost : 65.04981646565285\n"
     ]
    }
   ],
   "source": [
    "xgb_accuracy = accuracy_score(xgbY_pred, y_test)\n",
    "print(\"Accuracy XGBoost :\",xgb_accuracy*100)"
   ]
  },
  {
   "cell_type": "code",
   "execution_count": 37,
   "id": "1c18cdab",
   "metadata": {
    "execution": {
     "iopub.execute_input": "2024-08-28T17:48:24.703857Z",
     "iopub.status.busy": "2024-08-28T17:48:24.703433Z",
     "iopub.status.idle": "2024-08-28T17:48:24.728447Z",
     "shell.execute_reply": "2024-08-28T17:48:24.726781Z"
    },
    "papermill": {
     "duration": 0.055827,
     "end_time": "2024-08-28T17:48:24.731467",
     "exception": false,
     "start_time": "2024-08-28T17:48:24.675640",
     "status": "completed"
    },
    "tags": []
   },
   "outputs": [
    {
     "name": "stdout",
     "output_type": "stream",
     "text": [
      "Classification Report:\n",
      "              precision    recall  f1-score   support\n",
      "\n",
      "           0       0.51      0.38      0.44      1358\n",
      "           1       0.70      0.80      0.75      2456\n",
      "\n",
      "    accuracy                           0.65      3814\n",
      "   macro avg       0.61      0.59      0.59      3814\n",
      "weighted avg       0.63      0.65      0.64      3814\n",
      "\n"
     ]
    }
   ],
   "source": [
    "print(\"Classification Report:\")\n",
    "print(classification_report(y_test, xgbY_pred))"
   ]
  },
  {
   "cell_type": "code",
   "execution_count": 38,
   "id": "84a99205",
   "metadata": {
    "execution": {
     "iopub.execute_input": "2024-08-28T17:48:24.786371Z",
     "iopub.status.busy": "2024-08-28T17:48:24.785256Z",
     "iopub.status.idle": "2024-08-28T17:48:25.018720Z",
     "shell.execute_reply": "2024-08-28T17:48:25.017154Z"
    },
    "papermill": {
     "duration": 0.264049,
     "end_time": "2024-08-28T17:48:25.021671",
     "exception": false,
     "start_time": "2024-08-28T17:48:24.757622",
     "status": "completed"
    },
    "tags": []
   },
   "outputs": [
    {
     "data": {
      "image/png": "[encoded data removed]",
      "text/plain": [
       "<Figure size 1200x800 with 1 Axes>"
      ]
     },
     "metadata": {},
     "output_type": "display_data"
    }
   ],
   "source": [
    "cm = confusion_matrix(y_test, xgbY_pred)\n",
    "\n",
    "plt.figure(figsize = (12, 8))\n",
    "sns.heatmap(cm, annot = True, fmt ='d' , cmap = \"binary\", cbar = False ,xticklabels=['Class 0', 'Class 1'], yticklabels=['Class 0', 'Class 1'])\n",
    "plt.xlabel(\"Predicated Label\")\n",
    "plt.ylabel(\"Actual Label\")\n",
    "plt.title(\"XGBoost\")\n",
    "plt.show()"
   ]
  },
  {
   "cell_type": "code",
   "execution_count": 39,
   "id": "dba482ad",
   "metadata": {
    "execution": {
     "iopub.execute_input": "2024-08-28T17:48:25.079453Z",
     "iopub.status.busy": "2024-08-28T17:48:25.078976Z",
     "iopub.status.idle": "2024-08-28T17:48:25.086378Z",
     "shell.execute_reply": "2024-08-28T17:48:25.084945Z"
    },
    "papermill": {
     "duration": 0.040669,
     "end_time": "2024-08-28T17:48:25.089520",
     "exception": false,
     "start_time": "2024-08-28T17:48:25.048851",
     "status": "completed"
    },
    "tags": []
   },
   "outputs": [
    {
     "name": "stdout",
     "output_type": "stream",
     "text": [
      "KNN Accuracy: 65.5742003146303\n",
      "SVM Accuracy: 66.57052962768746\n",
      "Random Forest Accuracy: 65.52176192973256\n",
      "XGBoost Accuracy: 65.04981646565285\n"
     ]
    }
   ],
   "source": [
    "print(f\"KNN Accuracy: {Knn_accuracy*100}\")\n",
    "print(f\"SVM Accuracy: {svm_accuracy*100}\")\n",
    "print(f\"Random Forest Accuracy: {rdf_accuracy*100}\")\n",
    "print(f\"XGBoost Accuracy: {xgb_accuracy*100}\")"
   ]
  },
  {
   "cell_type": "markdown",
   "id": "49f72eff",
   "metadata": {
    "papermill": {
     "duration": 0.027337,
     "end_time": "2024-08-28T17:48:25.143711",
     "exception": false,
     "start_time": "2024-08-28T17:48:25.116374",
     "status": "completed"
    },
    "tags": []
   },
   "source": [
    "### Deployed in HuggingFace link: https://huggingface.co/spaces/Kabil007/EngineHealth.care"
   ]
  },
  {
   "cell_type": "markdown",
   "id": "9f96820e",
   "metadata": {
    "papermill": {
     "duration": 0.02663,
     "end_time": "2024-08-28T17:48:25.198219",
     "exception": false,
     "start_time": "2024-08-28T17:48:25.171589",
     "status": "completed"
    },
    "tags": []
   },
   "source": [
    "# 🏁  🏁  🏁  🏁  🏁  🏁  🏁 - FINISH - 🏁  🏁  🏁  🏁  🏁  🏁  🏁"
   ]
  }
 ],
 "metadata": {
  "kaggle": {
   "accelerator": "none",
   "dataSources": [
    {
     "datasetId": 3092910,
     "sourceId": 5323694,
     "sourceType": "datasetVersion"
    }
   ],
   "dockerImageVersionId": 30746,
   "isGpuEnabled": false,
   "isInternetEnabled": true,
   "language": "python",
   "sourceType": "notebook"
  },
  "kernelspec": {
   "display_name": "base",
   "language": "python",
   "name": "python3"
  },
  "language_info": {
   "codemirror_mode": {
    "name": "ipython",
    "version": 3
   },
   "file_extension": ".py",
   "mimetype": "text/x-python",
   "name": "python",
   "nbconvert_exporter": "python",
   "pygments_lexer": "ipython3",
   "version": "3.11.7"
  },
  "papermill": {
   "default_parameters": {},
   "duration": 49.353937,
   "end_time": "2024-08-28T17:48:26.052350",
   "environment_variables": {},
   "exception": null,
   "input_path": "__notebook__.ipynb",
   "output_path": "__notebook__.ipynb",
   "parameters": {},
   "start_time": "2024-08-28T17:47:36.698413",
   "version": "2.5.0"
  }
 },
 "nbformat": 4,
 "nbformat_minor": 5
}
